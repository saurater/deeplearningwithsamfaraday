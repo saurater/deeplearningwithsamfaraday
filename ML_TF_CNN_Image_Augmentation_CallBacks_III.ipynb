{
  "nbformat": 4,
  "nbformat_minor": 0,
  "metadata": {
    "colab": {
      "name": "ML_TF_CNN_Image_Augmentation_CallBacks_III.ipynb",
      "provenance": [],
      "collapsed_sections": [],
      "include_colab_link": true
    },
    "kernelspec": {
      "name": "python3",
      "display_name": "Python 3"
    },
    "language_info": {
      "name": "python"
    },
    "accelerator": "GPU",
    "gpuClass": "standard"
  },
  "cells": [
    {
      "cell_type": "markdown",
      "metadata": {
        "id": "view-in-github",
        "colab_type": "text"
      },
      "source": [
        "<a href=\"https://colab.research.google.com/github/saurater/deeplearningwithsamfaraday/blob/main/ML_TF_CNN_Image_Augmentation_CallBacks_III.ipynb\" target=\"_parent\"><img src=\"https://colab.research.google.com/assets/colab-badge.svg\" alt=\"Open In Colab\"/></a>"
      ]
    },
    {
      "cell_type": "markdown",
      "source": [
        "![image.png](data:image/png;base64,iVBORw0KGgoAAAANSUhEUgAAAy0AAABLCAYAAAB9VWjcAAAgAElEQVR4nO29eXhbd53o/dHqfZctK7GzL1aaKK3ShnRx2tLYkLoLCbQDtwRa8M0wwHCfzrSXubzkvc8lMzzwUGCYYfryhrx3egmFKaR1C+OWOqG0cZd0UxNlkeNmjxNZsRLvS7Sd948jyeccSba8O8nv8zxOLOksv/M9vyN/v7/vppMkSUIgEAgEAoFAIBAIZin6mR6AQCAQCAQCgUAgEIyEMFoEAoFAIBAIBALBrEYYLQKBQCAQCAQCgWBWI4wWgUAgEAgEAoFAMKsRRotAIBAIBAKBQCCY1RhnegACgUAwPjzsfKoBlw+w2qnfsgmndabHJBAIBAKBYCoQRotAIJgYvqjxAICFuie2UjcdxoO7RTZYomNodFfjrLFMw4knkZmS3bWGkOPswd3M9l3NeAGwU/+jTThneEgCgeDaQBgtAsE48LqbaWzy4PX5o3+cASzYrKU4a6txOizYZnB804tSBjOHzXqVGSzA+GTnp/GpHTT6ht+xOTaxbYs9ybYeGp9qiG5rp/6Ja9UbJeQ4e5gd3wcCgeDaQxgtAsFY8HnYuatheIVfhR+vz0/jLg+u2q1su9pW/WcVaoXSueU71Ds0mziqcFo98fCw60eJ7MCrmX9edwM73fZEGYFi2w6hTKqYaTmmMccFAoFAEEcYLQJB2ihDUAQzj536J5Ktil+fuA56wCHkMVGEHAUCgWB2IowWgSBNXLs0BovVTv2WapzxsCQ/XreHxqZmsaItmB6sFmz4ZS+Au5lGn13kcowHIUeBQCCY9QijRSBIB18zjW7Fa2s1256o1uStWLA5qql3VCc5QMyg8eDy+RXHseBcXU2dw45NoyR53Q1s3+UBYqEjfly7XqDRHYsZt+Csraauxh4fh2vX99kZG2c0Pl+bW+PatYOdbn98m6dVMfxjH+dIKK8hUWb+6FjkV7ZoSJ3qGhTX9fXo7/EwGlXydao8g+mRexyfbLS6fH5V6JHNasFWu5l6xySHDPpKcdZCY5Mf8NPY5KEuaU7GSPhx7Wmm8aBHMWYLNoedutrqBJmO557KY21m+1NRg96xiae3lNIYlStYqNuylbpYeNQ1Lsd05nidbwfbm4afU+2z7N2j/vxpzXiV57AlhKuO4zkfy/1LRXTuxJ4jUTBBIBCMBWG0CARp4NJ4T5y1WoNlJBSlebX4/LiaGnA1NePcslUd0+7rUPzezPYntR6c6L7txBUWW7kFYgaJuxlXwoqxB5d7WEmxlZdOfJwjobyGJGhzCtLB65OVJHXCb7I8g+mTOwDuBr4eU+aTjNm7awfbUyZ6jx9bTTXOpqjxNmYvQSoZ+fG6m9np9owsnySkd0/9isT26Pliv14vchwBr8+PzVoKxJ7lFrzY1cbhQYWx4W7BhV1RpcuDS2EUqYtUTMZzPsL9S4WvWWGwAI5Eg1ggEAhGQjSXFAhGxa9RxOw4006Ylf+4J0/cV2+XEH6mQGs0qXA3x5UHm0Ot2CQokO4WxTksOB3DoW2TMc7pIL0qYdMrdwDvKMo8RKvOjcNQGxk7dbWK+9iUXOFPJB0ZTdH9HkEOQo7ROe6oSmmEJBYR0LxWVTVUfl9N0nM+Zvn7adyleJas1Um9wAKBQDASwtMiEIyKRiGwjqGcseaPu82xifr4H2s57CgeqoWHxj0j9RoZDqfw7mlge1yp8uNy+6mrsUSraA2fU5tU7DqoUMSUFbcmdZwTw7nlOzw90cpK0y13iK6My144ZXiN193MzrjCFjUkJ3mFeVxeAq2MajdRHw15U4956u63vJpvAZ8/LpPrQY7pzfFS+dqTPcuqxQfQzkWvW+HRUH5fTfJznuz+JcO1S1la2k59QmitQCAQjI7wtAgEU4jaSKhWKAgAFpxbNquUIu9BT4qVfXX8t62mOoUyZcG5WqFkqJQbTX7AakUuzKSNc3Yw/XJHjvP/0VZZYVVsY3OoyzF7lTkEk8bYvQQqGTk2sU2Ro2NzVFNfOzyPpuJ+22q3DuemKL1nQo5RNM+ywnuSzBvlbe9Q/K4IAZ2i5zzl/dPiblDk71ioe0I0mxQIBONDeFoEgikjtZEwjKyYNMYSaqOKScJ2Y+hDYnPYsTUNr+663Jvk8BCfRxEWog4Nm7RxzgpmRu6xc8vJ2B1TpFSnxlazmbqD0RXtUb0EGhnhx+VONxxqMlDOv2QIOYLmWfZ5cPmqqbMq8lmsdpxEn+t4XosylGyqnvPR7l8MDzt3Kc5Zu1kk3gsEgnEjjBaBYFTUYRrpK+wdCZWPpgVNiFgscV0dMqJUxmdonFPGDF2PsrrSjGChrtZO4y4PwxWwUm2rlpGcLD4NQ0wHIcdhVM9yLARs+Jy21dU422OLEdEFCqt/Fj3nFmzWYWPJ29SMq0Z4WgQCwfgQ4WECwahYNOU/Eztpp0NaK8ZjyZdJiTqsRA7xUFcbSr7KGt1+2sY5PUzP9WgTjS04azdRv2VTtJfPhA6ePg5F+FpC3oOS0jGVrp6++y3kqEb93eNt71CNx2a14Fw9nLPm9flT57NomJ7nopS6Lcr8FQ87U1SGEwgEgtGYPE/L4CXoPgUFC6DnNGSXQ17FpB1eIJhJnKvt4B5OwG7c1Yxz1GRStYfGe9CDt0a7j6Z06SQphwlhJW5ShIZN4zinLaRsBuSuCb2r26LsP+HH29Q8kaOPAaWXwEPjnipZ0R/FyE7s45Emk31Pr1c5joDqu8fdQmN5LHclVhWsSg4JQ57rLqtfvW+cGfo+slZTX+sZ7injbmCn2z62whoCgUDAZHhapDAc/094uR7c/w5DnXDkV7B3K7T+HsKBSRimQDDDqMqPEg1haVA3Zov1ZHjq+2zfI4dkqRNpm9m5R5nYGm1aqFCE1ErGBFCFhWhXr7V5GlM3zlglKBkPjXtisfIedj61I+2yqa54QnAa/SBmUu6xMcbnReK5phyFl8B7sCVlgQGVN65Jrhql2tbnx7Wnge1PqhshTtY9HZ1rW45aUs5xTenjeL5J3KBQeHtUTXC1pdln7rmw1ahzWWa6bLpAILg6mZinxeeGd38K596QvSxVn5Hf72+HE6/A5SNwsgFWfwNst0/CcAWCmcJO/ZYWddM7n4edT6UIdWjvACzqEqqAt6mB7U0NyfexVo/eUTptNAm1CpKFhk3ZOKOKVbzqUdMOvt6Uzo4WdR6Ru4HtT8rjSWc1e9rlrrlO164d8e7m04/CS+DzpFQO1TKSO9mn3Fb5Ytz3NA2uJzmmPcftOB0Nmj4tyuc4xbOexEsyk99Hw54rkMPEqtTNWQVXD0OXoeMwFC4EnwsW3wc6w0yPSnAdMD5Py4AfXvsu/P4hOPwb6DwFEqCLHk6nl1/3nIXju6Hpi9D836C/bdIGLhBMO9Eu3OmESwx3mrdryoqmwDr5vQvUK+IxUlX9maJxjqj4yIpMKia2yjvdcleWyp0FOEYozRwn3WvX5HRN4J6OznUkR8bgsSxPlIkykT7Zs548b23mvo9wbFKHhE1Jg1DBlCFJEAnB0d/BM5+AI8/KkTWv/S00bATfByBFZnqUgmucsRkt4QB8+P/B/9kA+38Gl1vl93RJto29Fw7KOS5Hfwkv3gVHfwHB3gkPXCCYCWyOTWz70Vbqa+1Jqu9YsFnt1G3ZSn2Nuu/Etidi+2iOF91+W7LeBUmNDuW5RhlsMoVrJCVsvONk5Lh355bvsK1WrSjZHNXUP7F1ZIUwZiSqFGa7wugaJd5+muVuq9nKNm2yeDSRfFvKFeUJ5gykrABloS5hLEnKN1urFfM58djO2uT3adz3NE5pyuu+nuQ4+hyXsTnsmnmqCf1yVGmOPUJJ4nE/50pS37+R7oVzyyZ12GoafXAEs4DQEJx/F/7jAXjx83D5OESCgATBPjizB56/C97+NnS1ymkDAsEUoJMkSRpxC0kCJDjxF9j3fTj/AYR6QSfJJo+OYdNnxWa46wfw1jbwPCcHnxkU2+gBcy4U2+GW78Hcmqh3JpnVIxAIBAKBQCCYMc5/AId+AwefgcFOMCGrbDc+Brf8N3jubgh2yvqdBFiWwKqvwZK/ghxRjClOyw/pbtiveKOCjK3/SmbJjI3oqmSEnBYJwiHwt0LzT+HoCxDoBl0kPf9MzA6RUG8f6gP/B/Da52FeHTiehMIVoDcxkvEiSRKhUJhI1MbSbilp3ou9lgC9TofRaECnu/6Mo0hEIhQKAbIsYv8igU6nS5CbLiqrSCTClUAQkOWXkWG+LuUnEAgEgmuMSBfho41c+aiZ0EUfUqxekN6MLqcI/fxqzCvvxDy/4vptDNHrhbd/Bp4GuNQ6vAitRKtAGICu4/D2k3ByN6yoh2VfAaE7CCaJ1EbLYBe8/ww0/7OcmxLzlIDaIkg2F6POGdBsF3tfkmQD6MRvwPsqVH0NVjwOGalNzoHBIV7e+yb+S11jUp4lScJSXEjN3bdSmJ+b9n7XCm1eH6/sfYvRHGoxystK2HjP7Rw7cYadv25AikjMr7Tx6BcewFJcOMWjFQgEAoFg6pDanmXghd2E+pN8GAkg9foIH97N4OHdDOrNGG75HrmfXD7t45wZJAgFwP07+Ms/QddJIJjacEumiumjx7m4H7rccOLXsPaHYFk7ZaMWXD+kNlrOfQBv/hw6z6qtax3DEzWV7aDTfKZL8T7A0CVo/X+h0A4LH0k5nKGhKzS9tp+PT57RGC06lRGvVc4lSWLxwkpuvWX1dWe0SJKEz3eJ3X/YSzgcjr83EqvsS9lw5zp6e/s54jlBJBIhFAoTDISmY8gCgUAgEEwNHc/S9+xuIunmi0fAMP96MViAs+/Dq9+F1j2y3hcL748hJflfuUiN5vfQAHhfh8ZqWP5VuOkfIaN4yoYvuPYZITwsmYWBPCEjQGYOhJMtVWgOEdsnsxCC3bKXJcHoGT2vxWg0UDnXioQUN1p0yB4Y/+UugsEQEhILKuZgNA1fliRJVM6xYjZNXh/Nqwpd9E7qdJhNRqxlJZhMpuTbSjB3Thl6vdoylcWdnqdGIBAIBILZh48rjUkMFmMO+vJVGEwXCfl9SL0KvaZgI+bF0zrImaXpe9C6N3V4v1Z305GoKmr3AYgE4OSzUHkfzL13skctuI4YWZPX2hERICsHKtZA8SI49Kvom0nQWt9LPw+DPvC9CUMdyfcZgdycHP760c8RCg6v+BsMeg4cbuXXv2/kfHsHSBLf2voFyixqS95kMlJcXDDmc14TxFJYJIlSSzHf/OrnmWMrJRKRkpqJZrMJs8mE1kgRJotAIBAIrlo6mwloO4TOfZS8Lz6IXpV320/45ItcefMVIis2JqRxXNMYTKDXy9W/YsZIrJ1FVpEcGaNEqxhIgMUOXccSyx/rDVy/CUKCySI990MEMOihwglVdeB8DC6fgEO/JqXRoqXyUzCnGo7/B5x+ATrehvBQYmJXCgwGPdbSRLdiaXsHJpMRJNmJYyu3UF6WWOpRkiTaLlzEd9FPMBTCYDBgKS6kYo5V3l9BIBjkbFs7ADlZmZRbLQwOXeHMuQv09PaTkWGmMD+XirnlGA3JL+ByVw/nzrczODgEQEF+HnNtpeTnjRyi1tnVw0X/ZXp6+8nNySY/L4fyshIMmvOEQmH8l7vo6x/AaDBgLSshFApz8nQbA4ND2JcvlM+lsExMRiM2q4U55SOVdIVwOPGepvKD+S91cbmzm66eXvLzcsjLzaG8zILBMPzl1D8wiP9SF8FQiAyzifIyi0rm4XCEtgvtRCIShQV5FBXmq87R4e+kt68fCSgpKqAgP1cUBRAIBAJB+vhOJGgrprUagwXAmINh2SNkL0sdrg5AoI2Qay+Bj/cT8nciDcWy+c3o8uRk/ozbHsZUkiKyAYjs+1t634r1r1tO5rd+QEZOkEjr7xh6V1MkILMQg+1OMmoeGT5m/0kC7z5D4OhJwjEPkTEHXckqzHc8QuaycVTv0oaAVdwCG7aD+9dRnU/xmTJXGWR18MYnIMsC+/879B5TH1f7Z3vSZbiKrL//HmYzEGoj+OefM3T0FJHocU0PNpC9YvLHAMnPR84iTGsfJWvtqrHXyB33uHxceeZrDKkMdCsZj/6CzBS1yNUylDHc/Qty16VVv35aGdlokSLyJLQtgxseAMdDUBFNprp0bHjCjngMYvFJkFkCK78BlbVw8jk4/Rx0HiZtwyfZ4SVJ9QAly9no7O5l7xvv8tFBD2fPtxMIBjEYDMwpL2WVfQkbN9xOmaUknhvT2dXDv+z4LTrghqrFrHWuZP+Hhzhw6Bid3T1kZWZiKS5g3c0OPn3PbeTmZMfPNTR0hXc+cPP2e26OnzpLb98AOh1YSopYNH8ua1av4I51N0a9GcP09Q/QvP8jPnK3cN7bweWubgrz8yguymfJwnnceZuTRQuGv4B6+wd4Ze9buNweLMWF3OK8gQveDt589wC9/f1886t/xR2fuElzK6R49bXR0T5i6teXu7p5+72DHDzcitfnx3+5i+KiAooK8li+ZAHV625i4fy5AHRc6uSFP77G6XMXKC7M52++8rDKAO3wX+bnO58jHI6w1nkDn9/8adW5/rNpHwePfAzAo1+4H8eKpcJoEQgEAsGEkIaCyDV8x0DoJFde2M7Qia4UGwwn8w8c3o3+xu+Su3FNGkrrMYKHjqE7u53BE0lC74e6CJ96iYEdr2C468fklL1E3+69ieFuoX4k336uPL+fwIpvk/fguvQV5ph3RW+Ckvmw/u9hzVfkfnxHf6/eTrtP7HdzPix4AMpvA/dTcOJXcKVdrS9OmQwPEToJ5oKX6HvuGcKDmo9VHrVJHEPHbvqeeZawNvW3/yTBv/zfBN9bT/ZGa1oq88THZSXDuYahxg8V+/gIHD1Gpi1ZflYbgRZt4/dVmBOaUc0OUhstUhhyy2HpPbD6IVhYDaas6GdjCBaKSfLMy1CyCvIXQcFSuPF/gK1aNlx8b0QbFU0GWuW6h//z2z+y5/V36O0bQJIkJEnOizl/4SLuIx9ztq2dx//mEfJycwAYGgrgcnsw6PV0XOri4JFWDrecIBAIotfrMRoMnD57no9PnsVkNvHAp9aj0+kYHLrCq6+9w2+ef4XzXh8ZZjOFBfkMDg7hu3iZI54TvP/RUXp6+3hg413oo4p3d08fz73YxCt736TD3ylPakniLF70Bj37PzjE4Zbj/PWXP8uyxfMBCAaCnDp7no8OtZCfm8PHJ89yubOHvv4BIlKEY8fPsG7NqkmSqZqL/sv87sUmmv6yn67uXsKRCEgS59ra0Rv0vPvhYY4cO8EXNn2aG1ctJz8vl8td3bgOesjIMLP5/nsosxSh0+kIhcMcONLKe67DRCQJCairrY7fi4HBIQ4cbuUjdwu5OdkUFeQLg0UgEAgEY6OkAj3qJdLQ69u4Yt1Ohm0MhouxEr1pIO3NIwf+kb6cfyVv/ehej/Bf/gGtnp1IgPDrf0tPGueWjv6QgYW/I8eR5vWFw1CyFFbeD7f9LRRWRt8PjLyfkktH5IXpTAus/YFswBz9GVx6H4g2nZxCGYYO/CO9Zz5MUmyhAr0yyGSyxjC4l/7//SxJAlSG6d/HQGNOeieajHGt3Ih5z4cEFLdNOvIO4XuWJwY3XXqDoCbqj8XrZW/VLCS10WJdAfd+H8pXQG6Z5sOo+ySJ7ZKqCjKtv4WeE7D8S7Dos2DKgfI7oWglXHJB7rzxX4VqAMODGhgc4ncvNvGn194iEAixZFElNXetY055KRfaO3h5z5tcaO/gjbc/ZNmS+Xzu/g0YjQbQgUFvwGg04PV1EAqH+cLmT7N00Tx6evt49bW3OXH6PH39g7zwxz9Tve4migvzOX/Bx+9ebKLd52fZ4vncV1vNwnlzCYZCvPraO+z/wI3/Uie/e7GJT6xZhS0adrb3jXd5sfE1+voHWTBvDvesX8u8Chsd/k72vL6fM21ePnK38P/8++958ptflsO7dNH+MwYDQ4EgZ8+3k5eTzc03riA7K5MKWxl6jd871oMlTUEmfTcQDPHHP+2jcc+bDAwOsaDSxl133Ezl3HIuXe7m1dfe5vS5C3zw0VEkCYqLCphXUc5cWxkZGWZCoTDHT55j+ZL5ZJjl1wfcLRgMBgzApcudHGk5ybqbZYPr+Mlz9PT2YzDoWbp4HsVFBcJoEQgEAsHYKL0VU8FurnQr3hs8xtAzD3Nl/ufIvv9hjHnpKPcmTOsfQN+yO2oAmdHlZaO3ONCbfITPKsKDokTeeYbAuu+OQRE0oytaiHGumXDrISIj2QzGHAyVa9AHjxG84EsIXAkdeBnJ8WB63pZbt0J+OVTcrPkgcW8Juce4SlXQAwd/Al1HYNW3wHYHlN0GJU5ofx0KYiv9UydD6dSHiiFFQ6lsy9F1d8q9zONMxhiCBP/0S0LJDJaC5ZisED5/ikh/AAZHKVw1mePSr8F8YyGB9xTemv43CJ5/FMNc9dkiR/ZrpowZ85oNaY51+klttBRWDFvZCeiG/5OSfqJ+oQMCvdD2Z+hpgQtNcNP/gMIb5N4sc2oSDzReoueUJIl2n5/GpmYCgSAVc6xsebiO9bc6MRqNBIMhykqK2LGrAf+lThoaX+Mz996tUuolSaK0pIi/+kwtGzfcTnZWJpFIhCUL5/FPP9lJx6VOLvovc/HiZfJysjl55jwX2i9iNBpwOuxsvu+euIK9ZOE8jh0/zdnz7bRfvIT7SCs2q4VLl7t5/o9/pn9wiMqKch556F4+ecctZGSYCQZDrF65jO1P/RJfxyWOtpxkz+v7+fLn71ddciQSYWXVYj57/waWL5mPwWAgJztrOG9EJxssnV09/Ob5V8jPy4mG0elU17oyGgonGzvJv+IOH/2YN9/9iIHBIWxlFv7mKw+zeuUysrMyCQSDLFs8jx8/vYsLPj+Hjx7nrXcPMK/i0yxZWElJcSG+jkucPN1GIBAiw2wmEo7w/oGjcqNLSeLS5W5OnD4XN1pOnmmju6cXCVhlX4zJdF2lRQoEAoFgUlhE5sYNBP5jb2L++Jnd9P/8D+gq7iHr3sdGz18oeYTsB3ORSjZgtGpX0IOEX/s7+t5VhNxEPiR0GszL0himvoKML/2EzJj3J9JF4HePMXgqcVNd1ePkPbh+WBnveJbenbvVSuj5FkI8mF4QnL0uRSPIRP1MF/snIU+lR24s6WsGx+Ow8ltgyIS5n1YfZyplCOiWbiX3gY3oRzJyJjqGwBsEWrQWZQ6mB39O9orhvnZS2zP0PftS+qW2J0E2hhV3on/vJcVc6CLQcozMucoQMR/Bk5rQMPN6TLO4Yt4IpRxGssu15vUouyv1477zcO5V8H80hvOliWJYoVAYl7uFvv4BdHo9SxZW8snqtRiNsiJvMhm5585PUFIkJ313dvVw4pT65kUiEpVzy1l3s4PsrEwA9Ho9q1YsISv6GglOn7sgby9JRCLyT1//AIODV+LHKiku4J+++012/vP/5Bc//r9Y61xJIBjEfaSVC+0dIMGKZQu5O2qwxMZoX7aQDXeuxWw2EY6EeeOtDwkG1YGT4XCYW29ZzT3r11Ixx4rNaiE/L2fYIxGVSU9vP39+411ebPwLf3jlDV565S+89LL88+LLf+HgkVaCoRA6ferIS/fRjzlzTs7w+sSalay0L47LxmwycUPVYu7dcAdSJMLA4BCe1pN0dfeyeEEFluJCdMCxE2cIBAJIksThluN09/RhMOjJz8uhf3CIU2cvMDgky67twsV4WN8NVUswGa/T0tUCgUAgmBgLv6FW8lUEkNpeYWDHF+n94z4io7QmM6x4MIlCCWDCsHpdonKVpsKqu/GbwwYLgL4Qc3UyT8kqMj+tuZbSh8lYqN2ujUhneudOu3P9aGvMEQn62sH3llxwafgEqs2mSoYse5y8z41isEzGGE4fImGaOB5XGSwAuopHyVo5tnirCcvGthGzJvFeOvJOLEBPpns/QU1FPf1NG9Os0DUzjG9sYw3P0Wl+pAhEroy8z5jHFPtf/iUUDuM+0opOp8NkNNA3MMgf/vSGqjKWwaDnSiAUD6M6fuosK5arn3ij0UiGOXGNQqfw6HT39GIyGVm2aB7zKso57+2gef9HnG1r56ZVVXxizUqqli5gQeUc1TH6+wc5fuocIJGdncn8ChuZGYkTe83qFbz48usEAkF6+vo5771ITk6WYhDEDYekQlGM9Uogee5QRJIIhsKxDRP21el09PUP0H7xEuFwGEmSixRkac6bkWHGudpO5FcSBr2OjktdeH1+li+ZT0lxAaDj1JnzdPf2UZCfx9vvuwGwFBdRV1vNL/7995y/cJHTZy+wYN4cfBcvEQwGsZVZmF9pS6iiJhAIBAJBuuhWPE6+dQ0Dz/8bwUvJ4q4CRA7/lN4T+8h67LuYU3VL6DhEwPMOoTMuQt0afSYyMM7YETOmZUmSpUsrMIBaQZ67Jp5mPIwJ45wK0CzAaqsPT5hkDSe1n8f7u40giSmRYSEZ69anvww+gTFE2k9q3jFjXrEm6bbGpevAvS/dUU2CbJIk5GtCxCKefWojhgpMqxelP8YZYHxGi7YkXqptVNvpidclngZkY6JfTvYOyQbM0WOKCRbVy4OBYDQ5X0dPb7KYw9TjjVf5i17T/Mo5/M1jD/Evv/wtly53c/zUWU6fvcB/Nu0jJzuLdTev4r5PrWd+pQ2jwYCEFPeamE0msrMTvoEAyM/PiTZ8BCSJYCj21TU8NinpOBWfSxLzKsr57998lLlzyohIiX1aMswmMjMzUlYYk71IEUCHJEUosxQnLfmck5OFrcyCr+MSkUiEUDiMXq9n6aJ5HDh0jL7+AVpaT2MtLeHQ0Y8xmYzcevMq1qy2U1CQx3nvRU6dacNkMuK/3IkkSSxfuiCFYSYQCAQCwRgoWU/21vVIZ15icM9vCHYkMV4GP2Tw3/8N/be+gVG5rD14jKGGH3DlTKrqThOhDH1hkrfNuYlKeJ51MuJT0mQMZypYAr3Ho+pHiiblUyrDKgwpSsJ08bQAABdVSURBVPtO9hikYJ/mnTJ0+Uk3hZKyhEIQUzWuOAkJ+V1ccR8ic+4qwEewRWN02TZgLpn4aaeScXb6iSq1I81j7WeVn4LcSjBOUUmCmJEkqRV1CdlLoNfrMRkN8R+jSU60z87OJC83m7zc7IR+LcOHTs/QMhj03LZ2NT/+3t/x2fs+ibW0BINBTzAUwn+5k8Y9b/IP/+tn/Oer+wiFwgRDYby+jvEnlqdr/0W30+v15OXlUJCfS1FBHoWan6ysTHkskmInSXkYbcPJ5AMw6PVkZWYkfHpD1eJ4D5bDLSdoPXGWdp8fs8nESvsSigrzWVm1mMtd3Zw8e4ETp9vo6ulDkmDFskVkZmakecECgUAgEIyMbv6DZNc/R/6jWzGVJNFNBvcy9J5v+HWkjaFn/2GKlG2ACvRF6W2pLxpHD5ZxIyV/GQvKiL0OAzc9ATX/AcXLQAol7gtTLENG12wn6T5GerT7V2BI8/4lP+Akzy/9Gsw3aUoXH90ne+yShIYZb7x31rf/nLrQNe08tT8GFgcc/hc4vwd0U3Bqje5vMBpAksjIMPOZe+/mv35pc/LGiVE9Xa/TjdGAUBpIRMOmJMrLStj66Of46hc3cbbNy/sHjvLm/gOcOH2Oy109/PJXDThuWEaZpYi5c6x8cOAowWAo3ohSS1/f4LD3I1oxbIShpPf+mJHQ6/TRUDq5ZHTbBR83VC1O6DkzOHQFr8+PDh16vQ59NOh28YIKCvJzOXceTpw6R05WJqFwmIL8XG5yVGEyGVm+ZD5v7v+ICxcu0tXVQ2dXDwaDntUrlyYNnRMIBAKBYCLobBvJ3rqB8Ot/R9876tCq8OlDEGuyd/gZrnRods5aTsa9W8lYsAhd7E/UpWfp3bF7Ah3o0mAmtctUbdx0yMWVFn8WbLfDpYOgT1xsnHEZTtJ91GWaAaWXro1wJ5jG662YgvllWLMRw7vPDIeBBfYRPPUN9D5NaJh+DaYVY+xZNANM7bRXNSDSy27D234Gd/8aim6Y0lMbDIZ4T5P+wSFaT56lf2AQg0Gf8NPdI7v4JlJK90ogwP4PD7F337u888EhOrt6MJtNLFk0jy9s/jT/+J2vs3zxfPR6HaFwiI/cLRgNBuaWlyJJctf4M23epDknLR+fIhwKowPycrKZO6csaRPNpIzjkmQ5qHeUJMjLzabMUoRer0en13H85DmGNKX3QqEwZ855GboSQEKiuKgAa5ncSLKwIA9bmQWj0cjxU+fY/+EhQEfV0oUUFuSRk53FKvtS8nJz8LSe4oMDHoaGAixfsoDcnDRrnAsEAoFAMGZMGO76NhnalfIeX1w5DJ76UPOhGfP9PyBzmUKhvCZJoUhoa/bEG33rIKcC5tWBMTvJjkqmX4aTdR/1Odp2IBeRUjXQ6eka1ciYkvlVcC9mVTWwAMGT+wm2akLDVm6ctb1ZlEzMaBlNb074XAK9EcrWgkVbB3xyMRmNVN96ExkZZvQ6Ofn7D3/aR1d3b3ybgYEhjrSc4F93Phf3doyN4Qe5v3+A3z7/Cv/0k5388y+e5d0PD6u2zMwwU1SYL3sqJDl0LSPDzOqVy8jLzUan0+FpPUXzOy7CYdn+lSQJ38VL7Hl9P1cCQQxGA+tvdSZ4NtQj0TAOT4tsECXfcfmSBcwpL0WHjjf3H6D1xBmV96rtgo/GPW+i1+swm4wsilYNi+GIXq8EnPdexGjQs/42Z/xzS0khVcsW0NndQ29fP5IUYdWKpeTnCaNFIBAIBOOku02OVhoNrVak9BQkaJ1OjEnKw0Y+dk2tl2UmSKVkTDixZgZkOEn3UV+uTVoPEDiqNTxkwqcOTdu41JgwV6mLA0hdbxBWhYaZE7aZrUwsRit1ZVxFpTCGJ3XKzpOTSPT4er2OhfPm8MnqW2jc8yb+y1389vlXOHPuAmtW2zGbjJw6e4GX97yJz3+Zdp+fqiULKDDljuFkwxefnZ3FrTc7aD1xho5LnTQ27cNo0FNeZiEQDOJye3C5WwgGQxQX5nND1WJ0Oh1zyku571Pr2f2HvZxp8/Kb51+hp7eP8jILvf0D/Hnfe5w55yUSiTC/0kbN3bcmH8mky1V7QPlab1pVxVrnShr3vMmlzm5++asXqKutprSkiKErAd54+wNcB4+iNxioWrqQ29feqDrK8iXzyc7KpKu7F51OR1ZmJvZlww9+SXEBixdU8MGBo/FKYUsWVZKTLZLwBQLBbMHDzqcacPkAq536LZtwWkfdSTCDRA7+kN53LqJf8gCZn9iAaY41wUCRjj5LQNsdfO7yEVZ3XQSP9mNaMbyoJp15hv43tFWlrnak5LrepISfzwYZjnMMC1ZhZJ+6qpv75wwu+ylZSxUVFbzPMvC+T7v31I1LizYh//h+gkqrp2Cjxhsze5n6csxTbKRISIQjESIRuQyvMmoqJzuLRz//AL19A7z/0RG6untp3NPMH1/dJ28YzWFZsrCCjRtuJzcnK3ZQwpEIOh0jVNKKEAlHCOsjSJJEVmYGNXev47z3Is37P8J99GMOt5ygpKiQvv4BBgaHMOj1WEuL+cy9d1O1dAEAebk53P+p9VzsuMxb7x3g45Pn+MnTv5a9HTo5J0Sn07F8yQK+9PB9VMwpi48xIkmEwxHC4QhSJPk4JeRrkWU0lm8YWa5SdL/YntnZmTy48S46u3p4672DeFpPcaTlBGaziSuBIHqdDpPJyOL5c/nc/Rvi1xljwby5lBQXcL69AySJJYsqKbMM++PzcnNYvkSuFDY4dIWSokIqbGWi1LFAIJg9uFtkgwXA56HRXY2zxjKjQxKkQSRApHU3A627QW9GlxPtNE4boYttSP3aKmJWMm5cFX9lKK+AFmXOS4DgS1+hZ99CjKUk7VZ+baBR5LQhYRMyXqZfhpN2H813Yq76JSFVg8kuArsfI5CzCOPCHKRTxwgnzKspHpeWaEJ+4N3ol5bGTaNfuYGrRcOamNGSbsnjKSQvJ4dli+fHu7ybNT1VSi1FPP61R3j1tXc42nqSs23t9PUNYDQaKCkuYMnCSm5beyNrnSvjbU8yMsw4VixBp9OxoHJO0oaGSxfNIy8nG6PRSGmJrHRbS0v4r1/azKIFFbiPfhw/V35eDgvnzWH+vDncvNrO3XfcosqfmWsrY+uXNzO/0sbBw614fX65rLEEtnILC+fN4a47bsHpqIrvYzIZmV9hY9WKpUQiESwlyeok6sjLzWalfQnhcBibtTRBPsnQ6SAvL4dV9iVIksT8SptqvwXz5vDlLzzAgnlzOOQ5zvkLF+WyxjodlpIili6qpHqdk5tvWpFwbJPRwG23rEavNyBFInzqk7clbLNkYSV3334LZ9q82JctxFIykXIcAhW+ZrY/1YzsGbZQt2UrdY4ZHtO1iErOMrbarWwTiu01ic0q7utVRySA1Bsg3KvtVTGM/vbvkqkon6tfsQHDvmdQ1/MJIHUeI6hs4Ji1DnOli0DrNWbAxHNWFO8po2oA9KOrvwY9MyrDybuPJkyf/C8YWrXHAvpPElJkCegKrEjdI3tbpnJ+JSTkx1mEefV0VqKbGOM3WsZqkExRf5Z5c8t55KF7CUT9XgV5ieFdRYX5fH7zp7jov0zbeR99A4MYDQaKC/NZuKAioXlkcWE+39r6X+RcsuwscnMSE8ke+dy9XAkE0Ol0qpyN4qICHnqwhvW3OWk7f5H+wUF5DAV5VM4tp7AgL+l1lJdZ+OJD97L+ViftFy8RCoWQkA2heRXlZGnK/eblZrNxw+3cse5GJAmspcUJx9TpYF5FOd/46sNyDo3ZTFGK86v307Fo/ly+Wf95QCIzIyNBrgvnzWF+xX2cbWvnQnsH4XAEnV5HSVEBlXOtSWUWo+audThX25Ekicq55QkFEObYynjkoXvpHxgkPzeH4sJUhc8FE8OPd/SNBOPA6/YkyNZ70IO3ppp0WggI0sFP41M7aIzqAc4t36F+UgzwNI7rqMJp9cTDw0Ro2FXAWLKM9YUY79xGzjqNMlfwIDkPttDbsD+1CpSznuyvPo6p/d8ItO4d72hnF8YMWFYHF96FjsOJeT8RICsHlm6GktEfwpwH182sDCfzPhY8SM4jnfT/9iXCqXKmbI+Q+yUngV/8PVe6p2lcCce+F/PiZxg8oXl/4UYyUjVQnYWM02jRyf1WIqHRw78igFEHRkUH90kkOzuThfPmjL4hUGYppsySqNxrMZtNCWFNWhaMck5raQnW0rHVvTMYDCycP5eF8+eOuq3RaGROeSlQOuJ2OdlZ8Spq6aLT6cjNyWb5kpH30+v1LJg3Z1RZaCkuKqC4KPVTkmE2UTlXaAGCqxU/roP+xLd9Hly+aurE1L4GsFP/hH2mByEYA/p1P6bghmMEP3qD4BkXoc5OdTiYuRBdUSXmFQ9hdq5Cn8LG0VV9m/yt+xh8+TcE233R5H4zurwKjI6HyLxtHXojsHANJv1ede7A1YreCMsfBOtqOPxr2P9DiETX7CMRKF8Dt/5PqLgTzKMvMs4GGU7mGHQVj5L79fUE3tzBlaOxEC4zuqKFmNZuJdO5CB1gqrJy5d2RvS1TJxsT5pXrGDyxX/WuccWd6R5gVqCT0q6dq2HwMhx8Bt77Z+g+J1veKzbDXT+At7aB5zn5vXIHrNoKSx+GLAtTn4kvEAhSoglbmrzVaUEcpYyt1dTRHF+1FyFik8kMeloEguuVSBA6P4aOQ1B2I7S/D8s2gyFTbm0hmLWE//wYfe8pGleaN5Dz+DcwXkW3bfzhYVnFsOZrMK8aDj0DB3eCFDX5ImHIyIbVX4MVW6C4Sp7QAoFg9uJu4Ou7PEBMuQbXnmYam4ZDnWyOauq3REOcfB4am5ppdMe8ChacWzZT70iilEe3dfn8eBULTTarBVttin3wy+c/6FHto8ZC3RNbNd6LZPtZsDns1NVWJw/l8flxNb1Ao1sRMme14FxdTV2NfUwhXcrQMNtqO048NDbJMvI2NeOq2YQzYZ8Gtkdlj7WabU8ow8j8uHbtYKc7eswEw2eMcprK+5xyPKnlr7x22UDw49qlvBcWnLXq++Da9f24PFC89/Xo7ypDYwxzL+3j+qLVwwDZ65Ksepgfr9tDY5MHl0/heYvNK4cd2yTIQiCYVvQmKFkh/wAUL5/Z8QjSY3AvQx90qd+rWndVGSww0UR8UzbMuRmKl8KyB6HnLOgMsOxzcNM3wOoEcx7CuyIQXGW0e9j5VPNwhaQoXncz25+C+lo/jbu0eRuycr1dq1QrlGQtXp8f764dbHdsYtsWZbiNoqTsiEQV0bjyl2o/P153MzvdHpxbtqpXzpMkzcvv+3E1NeCldAzeEWVomAWnw4INO7am2PE9uNybcGpX7n3aNshqUhsj45VTlMm8zyOOZyT5K67d18z2J7X3Qr4PrnZ4ekt6IVlenx+wjHPupXFcVT5YR5LcsBHuS3ReuZqap0UWAoHgOid0kqFn/42QKpTMSobz6ujNomQSbCwdZBbCgntg5RehYD4s3QQV1dHYRmGwCARXG153oiIbx9fMzgRFVrFvU3N0BTr6ehSFPHa+RsX5vHsU57faqduyifotybwkFsVqtZ/GURV4P65dDarxuZqSGCzjxedRjdtpJSFR23UwuRI9HsYnJ8X+k3ifxyt/JSPeC80cGYlYNa/xzL10jjsy6chB3m46ZCEQCK43PmTw51+j7/mf0v+/H6P7x3/PFc1XoW7Fo6rKeFcLk9enRWeAWC8N0VNDILgGGA4D8rqb2blLo0TFm+r5ce15gZ1NMQ+D2ptgs8rFIpy16pAY9TGVngC1t6Juy6Z4+JfTYWHnk1FFTxtGpVHkbLWbqI+G0ajP5aFxT6yvhgdXPBzIol759nkSr3kUtKFhtthxV1viIWK4W3BhTwgRGzvjlFMCk3Ofxyf/5OOJhbJ59zSwvSlm5Plxuf3U1VhwbvkOT6eRezLWuZfucUdEKwfHJuq3xOaCHO610z0sw4nKQiAQCNQEkXp9hHtTrGxkrSOrdt30DmmSuMqi2QQCwfQgK0uxeH+bo1rTz0UZx2/BWVOdWgl3bOLpH22VFVjFar/NofZAeH1JKm6NAZUHw7GJbYq4f5ujmvraYQXPezBmXJSqPDWuJrXnov6JsSTOD+euxELDYtgcyhwEpaE000zefR6f/JOPJ2Z82WomWG1tmuaeEpUcrNUKgwViBqLymqZNFgKBQFCykZy//jamrJkeyPiYPE+LQCC4hihNGk4Ux1GlUV6j26cMWYklZ3ekoSBaFMfy07irAWqrsMWMithmVosqWV2VZI0flzudMCyNF8TXzM6nmuVQq9pq6lImmyfB3aIYm6Z3h9WO0zq8Au866AHHRHMSxiMnLZN1n8crfw1T0vNkLHNv4udSyWF1soR57ZyT82MSthP9XwQCwbgwocsxQ6yktzEHXckqzHc8Quayq6eRZDKE0SIQCKaWVInuI+Csrcbmju7j89CYkExtp16ViNyhUhblpO/0zmWr2co2drC9SaHQRs/ZGA+NGv04qhX2aBJ1SiYpRGzscpoqxi//KWUcc29idCRUKBMIBILpZQ1Z33qOq9SZMiLCaBEIBFOIn0ZljkS03KszlrvSlDwRfDg3xILN6teUztWG3MDonh4NGu+DrWYrT9f4E0r/ynktllFyQmDsIV8pqoiNkbHLaaqYmPynhvHNvclkuNrYCEyLLAQCgeDqRxgtAoFg6lBW08JC3RZlTxU/3qZk3ghFbojVTv2oBkMi42viaMFZswlnzSZ135R0OtkrQ8PSJGWIWKpwoQQmLqepYlY00RzX3JsoauPNe9CDt0Z7X5QFFBBGi0AgEKSJMFoEAsE04ZdXnq1ynwvXrheSl231KXpg+JrZ/qRHVgStpfFqXLbVdk2+iTpPwNv0Ajutm6lzKBRCnx+XW/ak2OIVoTzsfLIZr6Oa+trhZG1bVJFMN6xIm4SeqoeGd48iDM3dTKPPTp01VuUqSUUpn4edu1L3+xi7nKaK8cp/8nAd9OB12LHhx4vWEEhz7o35uFqS5EjtscSrqCU7t3O16LciEAgE6SCMFoFAMHVolH/Xrh3x7uLp7hNPblYq6e5mOd/kieHu8raaapxNsb4XcgPEVN6PBIXW3cB2d0OK8YyWEK0ODRtJCbU5lI0mFWVrNdfsbdrB15tGOifjltNUMX75jxeLOiTN3cD2J+V7GPP0jHnupXnckVDLAbxNDWxvSjW3tNXaBAKBQJAKUfJYIBBMIXbqase60p9m8rjPw05V4nm6IVLJGy2m2tZZO8oxVaFh9pHzVDShQPFytyMqrxbqapPJY7xymiqmQv4jM7KXYjxzL53jjoY9vVyiWRbSJxAIBLMd4WkRCK5btKEuo4RElVvAPfaSsbaarWyzNtOo6oEiJ0XXWVuGc0cUDIdbKfuEgFy+VtHgUFuFy1rNth/ZoyVuPapKTvI57Tgdyo7xduqfQB6bW+GhwILNIZc9Hq1ymDo0TFsiWIsdZ20zriTlbp1bvsO2PQ3sVBQCsDmq5TH4Gmgc8dxjkdPU3GdgHPIHVKFxWiwjJ/g7NrFtC7LMFP11Yj1yxjP30jnuqDJ0bGLbE9VyOJxGDjarHWdtNU5HklCzichCIBAIrnF0kiRJMz0IgUAgiONu4OtRZTJpOI6qjK26Ad91hZCTQCAQCK4jRHiYQCCYVSg9F15tWVqfR13GdrTmiNcwQk4CgUAguJ4Q4WECgWBWYVOFJ3nY+VTqfAxbbfWUJ5jPVoScBAKBQHA9ITwtAoFgVmGrSU/Btjk2UT/TvUBmECEngUAgEFxPiJwWgUAwC4l2pz/YEe0qHiOWIG/HaRWKuJCTQCAQCK4XhNEiEAgEAoFAIBAIZjUiPEwgEAgEAoFAIBDMaoTRIhAIBAKBQCAQCGY1wmgRCAQCgUAgEAgEsxphtAgEAoFAIBAIBIJZjTBaBAKBQCAQCAQCwaxGGC0CgUAgEAgEAoFgViOMFoFAIBAIBAKBQDCr+f8B7RqPV37e/twAAAAASUVORK5CYII=)"
      ],
      "metadata": {
        "id": "H8KKefXQFzf3"
      }
    },
    {
      "cell_type": "markdown",
      "source": [
        "# Neural Networks, CNN - Convolutional Neural Network and Callbacks\n",
        "\n",
        "Before you start working this notebook, please make sure you see this [Play List](https://www.youtube.com/watch?v=aircAruvnKk&list=PLku20RxmCw282UoYgfhIlrH4ja62vGb5n)"
      ],
      "metadata": {
        "id": "14EpKzTUGtZu"
      }
    },
    {
      "cell_type": "markdown",
      "source": [
        "# Marathon Class\n",
        "\n",
        "Please Visit [Deep Learning Marathon Class 3 With Sam Faraday and Josh](https://www.youtube.com/watch?v=KXl7S0-7kt8)  for a 180 minutes lesson"
      ],
      "metadata": {
        "id": "Kjn-agBaE1hf"
      }
    },
    {
      "cell_type": "markdown",
      "source": [
        "## Thanks to:\n",
        "1. [**Laurence Moroney**](https://www.linkedin.com/in/laurence-moroney/) - AI Lead at Google \n",
        "2. [**Andrew Ng**](https://www.linkedin.com/in/andrewyng/) - Founder of DeepLearning.AI\n",
        "\n",
        "For their wonderful classes at DeepLearning AI\n",
        "3. [**Joshua Olalemi** ](https://www.linkedin.com/in/joshua-olalemi/) - Data Scientist - For his support\n",
        "\n"
      ],
      "metadata": {
        "id": "bLjDlSJ4HxID"
      }
    },
    {
      "cell_type": "markdown",
      "source": [
        "# Install Libraries"
      ],
      "metadata": {
        "id": "70dD2wR_bcfp"
      }
    },
    {
      "cell_type": "markdown",
      "source": [
        "**wget** Library used to download files"
      ],
      "metadata": {
        "id": "furLz5oG99bL"
      }
    },
    {
      "cell_type": "code",
      "source": [
        "pip install wget"
      ],
      "metadata": {
        "id": "-3F-RMyMaYo1",
        "colab": {
          "base_uri": "https://localhost:8080/"
        },
        "outputId": "e0ccc336-92f1-4652-e5ad-8d91393729a3"
      },
      "execution_count": 18,
      "outputs": [
        {
          "output_type": "stream",
          "name": "stdout",
          "text": [
            "Looking in indexes: https://pypi.org/simple, https://us-python.pkg.dev/colab-wheels/public/simple/\n",
            "Requirement already satisfied: wget in /usr/local/lib/python3.7/dist-packages (3.2)\n"
          ]
        }
      ]
    },
    {
      "cell_type": "markdown",
      "source": [
        "# Import Libraries"
      ],
      "metadata": {
        "id": "8a0BUpapbqGY"
      }
    },
    {
      "cell_type": "markdown",
      "source": [
        " **wget** Library used to download files\n",
        " \n",
        " pip install wget"
      ],
      "metadata": {
        "id": "GsofXUWC8B3_"
      }
    },
    {
      "cell_type": "code",
      "source": [
        "import wget "
      ],
      "metadata": {
        "id": "Ri6iEwLcbs3S"
      },
      "execution_count": 19,
      "outputs": []
    },
    {
      "cell_type": "markdown",
      "source": [
        "**os** Operatyng System functions like delete, copy."
      ],
      "metadata": {
        "id": "rzBb0rzB8ILf"
      }
    },
    {
      "cell_type": "code",
      "source": [
        "import os"
      ],
      "metadata": {
        "id": "HJCaULRzbvkK"
      },
      "execution_count": 20,
      "outputs": []
    },
    {
      "cell_type": "markdown",
      "source": [
        "The **shutil** module offers a number of high-level operations on files and collections of files.\n",
        "\n",
        "   In particular, functions are provided which support file copying and removal\n",
        " "
      ],
      "metadata": {
        "id": "geKxGTt28Muo"
      }
    },
    {
      "cell_type": "code",
      "source": [
        "import shutil"
      ],
      "metadata": {
        "id": "vsvNN3QybyRu"
      },
      "execution_count": 21,
      "outputs": []
    },
    {
      "cell_type": "markdown",
      "source": [
        "**zipfile** The ZIP file format is a common archive and compression standard. \n",
        "\n",
        "This module provides tools to create, read, write, append, and list a ZIP file"
      ],
      "metadata": {
        "id": "abJvkuim8ilH"
      }
    },
    {
      "cell_type": "code",
      "source": [
        "import zipfile"
      ],
      "metadata": {
        "id": "DcnjPdXncWom"
      },
      "execution_count": 22,
      "outputs": []
    },
    {
      "cell_type": "markdown",
      "source": [
        "**Matplotlib** is a comprehensive library for creating static, animated, and interactive visualizations in Python\n",
        "\n",
        "**pyplot** is a collection of functions that make matplotlib work like MATLAB. \n",
        "    Each pyplot function makes some change to a figure: e.g., creates a figure, \n",
        "    creates a plotting area in a figure, plots some lines in a plotting area, \n",
        "    decorates the plot with labels, etc."
      ],
      "metadata": {
        "id": "IiWM91qO8r--"
      }
    },
    {
      "cell_type": "code",
      "source": [
        "import matplotlib.pyplot as plt"
      ],
      "metadata": {
        "id": "IL3CmpK9jmh4"
      },
      "execution_count": 23,
      "outputs": []
    },
    {
      "cell_type": "markdown",
      "source": [
        "**matplotlib.image** The image module supports basic image loading, rescaling and display operations"
      ],
      "metadata": {
        "id": "bJKdXr4g87B-"
      }
    },
    {
      "cell_type": "code",
      "source": [
        "import matplotlib.image as mpimg"
      ],
      "metadata": {
        "id": "5VdmlhJ8joJh"
      },
      "execution_count": 24,
      "outputs": []
    },
    {
      "cell_type": "markdown",
      "source": [
        "**os.environ['TF_CPP_MIN_LOG_LEVEL']** \n",
        "To disable all logging output from TensorFlow, set the following environment variable before launching Python.\n",
        "\n",
        "Please see the verbosity according to the value of TF_CPP_MIN_LOG_LEVEL:\n",
        "\n",
        "0 = all messages are logged (default behavior)\n",
        "\n",
        "1 = INFO messages are not printed\n",
        "\n",
        "2 = INFO and WARNING messages are not printed\n",
        "\n",
        "3 = INFO, WARNING, and ERROR messages are not printed"
      ],
      "metadata": {
        "id": "OU4kjAaN9GPF"
      }
    },
    {
      "cell_type": "code",
      "source": [
        "os.environ['TF_CPP_MIN_LOG_LEVEL'] = '3'"
      ],
      "metadata": {
        "id": "2Bh0y8BIliNi"
      },
      "execution_count": 25,
      "outputs": []
    },
    {
      "cell_type": "markdown",
      "source": [
        "**TensorFlow** is a free and open-source software library for machine learning and artificial intelligence. It can be used across a range of tasks but has a particular focus on training and inference of deep neural networks."
      ],
      "metadata": {
        "id": "255HNt179ZfF"
      }
    },
    {
      "cell_type": "code",
      "source": [
        "import tensorflow as tf"
      ],
      "metadata": {
        "id": "x4w_ASeXleDO"
      },
      "execution_count": 26,
      "outputs": []
    },
    {
      "cell_type": "markdown",
      "source": [
        "**Keras ImageDataGenerator** generates batches of tensor image data with real-time data augmentation."
      ],
      "metadata": {
        "id": "-RugyKTN9gP1"
      }
    },
    {
      "cell_type": "code",
      "source": [
        "from tensorflow.keras.preprocessing.image import ImageDataGenerator"
      ],
      "metadata": {
        "id": "SXiopKcrl4ao"
      },
      "execution_count": 27,
      "outputs": []
    },
    {
      "cell_type": "markdown",
      "source": [
        "**Keras EarlyStopping** stops training when a monitored metric has stopped improving"
      ],
      "metadata": {
        "id": "twLap_Eb9uhc"
      }
    },
    {
      "cell_type": "code",
      "source": [
        "from keras.callbacks import EarlyStopping"
      ],
      "metadata": {
        "id": "o4Gp_FQsJRxj"
      },
      "execution_count": 28,
      "outputs": []
    },
    {
      "cell_type": "markdown",
      "source": [
        "# Acquire Images"
      ],
      "metadata": {
        "id": "d1zVzKm8b8Ng"
      }
    },
    {
      "cell_type": "code",
      "source": [
        "wget.download(\"https://storage.googleapis.com/tensorflow-1-public/course2/cats_and_dogs_filtered.zip\")"
      ],
      "metadata": {
        "colab": {
          "base_uri": "https://localhost:8080/",
          "height": 35
        },
        "id": "tkAkinY0b-_t",
        "outputId": "9b3d3614-bc2a-4731-f891-70940d267cea"
      },
      "execution_count": 29,
      "outputs": [
        {
          "output_type": "execute_result",
          "data": {
            "text/plain": [
              "'cats_and_dogs_filtered.zip'"
            ],
            "application/vnd.google.colaboratory.intrinsic+json": {
              "type": "string"
            }
          },
          "metadata": {},
          "execution_count": 29
        }
      ]
    },
    {
      "cell_type": "markdown",
      "source": [
        "# Unzip files"
      ],
      "metadata": {
        "id": "8RyHNb64caSN"
      }
    },
    {
      "cell_type": "code",
      "source": [
        "zip_ref = zipfile.ZipFile(\"cats_and_dogs_filtered.zip\", 'r')\n",
        "zip_ref.extractall('./')"
      ],
      "metadata": {
        "id": "7sPVjTgacchQ"
      },
      "execution_count": 30,
      "outputs": []
    },
    {
      "cell_type": "markdown",
      "source": [
        "# Get rid of vectorize.py , unnecessary file"
      ],
      "metadata": {
        "id": "ZKsyPyG-czFw"
      }
    },
    {
      "cell_type": "code",
      "source": [
        " if os.path.exists(\"./cats_and_dogs_filtered/vectorize.py\"):\n",
        "        os.remove(\"./cats_and_dogs_filtered/vectorize.py\")\n"
      ],
      "metadata": {
        "id": "7lT92MlXc3He"
      },
      "execution_count": 31,
      "outputs": []
    },
    {
      "cell_type": "markdown",
      "source": [
        "# Change Working directory\n",
        "\n",
        "**! ls** - It Lists the Directory Content - Please note the ! sign, it means it a a Linux Command\n",
        "\n",
        "**os.getcwd()** - it gets the working directory\n",
        "\n",
        "**os.chdir(\"dyrectory path\")** It changes the working directory\n",
        "\n"
      ],
      "metadata": {
        "id": "8jjuZd09ecX5"
      }
    },
    {
      "cell_type": "code",
      "source": [
        "!ls"
      ],
      "metadata": {
        "colab": {
          "base_uri": "https://localhost:8080/"
        },
        "id": "3RFCKR-aeGTR",
        "outputId": "cb67f05f-9425-451b-89d2-33f0a3923da8"
      },
      "execution_count": 32,
      "outputs": [
        {
          "output_type": "stream",
          "name": "stdout",
          "text": [
            "cats_and_dogs_filtered\tcats_and_dogs_filtered.zip  sample_data\n"
          ]
        }
      ]
    },
    {
      "cell_type": "code",
      "source": [
        "print(os.getcwd()) # get working directory"
      ],
      "metadata": {
        "colab": {
          "base_uri": "https://localhost:8080/"
        },
        "id": "mcCPZnTEem7_",
        "outputId": "555f0a54-b8d1-4e63-af21-b66b774dd296"
      },
      "execution_count": 33,
      "outputs": [
        {
          "output_type": "stream",
          "name": "stdout",
          "text": [
            "/content\n"
          ]
        }
      ]
    },
    {
      "cell_type": "code",
      "source": [
        "os.chdir(\"/content/\") # change working directory"
      ],
      "metadata": {
        "id": "w4W05vGjeeiO"
      },
      "execution_count": 34,
      "outputs": []
    },
    {
      "cell_type": "markdown",
      "source": [
        "# Create Working Directories Variables"
      ],
      "metadata": {
        "id": "BkaN27ERd2RJ"
      }
    },
    {
      "cell_type": "code",
      "source": [
        "base_dir = '/content/cats_and_dogs_filtered'"
      ],
      "metadata": {
        "id": "c1JY_kDXd6SV"
      },
      "execution_count": 35,
      "outputs": []
    },
    {
      "cell_type": "code",
      "source": [
        "!ls"
      ],
      "metadata": {
        "colab": {
          "base_uri": "https://localhost:8080/"
        },
        "id": "_sRIzXgrh1JQ",
        "outputId": "7720db18-341b-4c15-c441-705363576439"
      },
      "execution_count": 36,
      "outputs": [
        {
          "output_type": "stream",
          "name": "stdout",
          "text": [
            "cats_and_dogs_filtered\tcats_and_dogs_filtered.zip  sample_data\n"
          ]
        }
      ]
    },
    {
      "cell_type": "code",
      "source": [
        "train_dir = os.path.join(base_dir, \"train\")"
      ],
      "metadata": {
        "id": "Pbb6ZrHRfW3F"
      },
      "execution_count": 37,
      "outputs": []
    },
    {
      "cell_type": "code",
      "source": [
        "validation_dir = os.path.join(base_dir, \"validation\")"
      ],
      "metadata": {
        "id": "sv7tMWt3fnVO"
      },
      "execution_count": 38,
      "outputs": []
    },
    {
      "cell_type": "code",
      "source": [
        "train_cats_dir = os.path.join(train_dir, \"cats\")"
      ],
      "metadata": {
        "id": "mSAqmD0jgoCy"
      },
      "execution_count": 39,
      "outputs": []
    },
    {
      "cell_type": "code",
      "source": [
        "train_dogs_dir = os.path.join(train_dir, \"dogs\")"
      ],
      "metadata": {
        "id": "ZCai9gkDg2TS"
      },
      "execution_count": 40,
      "outputs": []
    },
    {
      "cell_type": "code",
      "source": [
        "train_dogs_dir"
      ],
      "metadata": {
        "colab": {
          "base_uri": "https://localhost:8080/",
          "height": 35
        },
        "id": "D-8UameOg7p2",
        "outputId": "60fbfa74-a6c3-4541-b7d6-5d86ececd274"
      },
      "execution_count": 41,
      "outputs": [
        {
          "output_type": "execute_result",
          "data": {
            "text/plain": [
              "'/content/cats_and_dogs_filtered/train/dogs'"
            ],
            "application/vnd.google.colaboratory.intrinsic+json": {
              "type": "string"
            }
          },
          "metadata": {},
          "execution_count": 41
        }
      ]
    },
    {
      "cell_type": "code",
      "source": [
        "validation_cats_dir = os.path.join(validation_dir, 'cats')"
      ],
      "metadata": {
        "id": "PrJEZJSihC2g"
      },
      "execution_count": 42,
      "outputs": []
    },
    {
      "cell_type": "code",
      "source": [
        "validation_dogs_dir = os.path.join(validation_dir, 'dogs')"
      ],
      "metadata": {
        "id": "DkoRlEyRhMi_"
      },
      "execution_count": 43,
      "outputs": []
    },
    {
      "cell_type": "markdown",
      "source": [
        "# Check Directories Length"
      ],
      "metadata": {
        "id": "RwkFGlyyhWHy"
      }
    },
    {
      "cell_type": "code",
      "source": [
        "print(\"total training cats images: \", len(os.listdir(train_cats_dir)))"
      ],
      "metadata": {
        "colab": {
          "base_uri": "https://localhost:8080/"
        },
        "id": "nYr9U06EhaNS",
        "outputId": "1c331cc2-da23-4f57-af7f-6888b66ef006"
      },
      "execution_count": 44,
      "outputs": [
        {
          "output_type": "stream",
          "name": "stdout",
          "text": [
            "total training cats images:  1000\n"
          ]
        }
      ]
    },
    {
      "cell_type": "code",
      "source": [
        "print(\"total training dogs images: \", len(os.listdir(train_dogs_dir)))"
      ],
      "metadata": {
        "colab": {
          "base_uri": "https://localhost:8080/"
        },
        "id": "kt7psVWwixwh",
        "outputId": "5a80d15c-d7d2-4e62-a7e8-d0109160d2aa"
      },
      "execution_count": 45,
      "outputs": [
        {
          "output_type": "stream",
          "name": "stdout",
          "text": [
            "total training dogs images:  1000\n"
          ]
        }
      ]
    },
    {
      "cell_type": "code",
      "source": [
        "print(\"total validation cats images: \", len(os.listdir(validation_cats_dir)))"
      ],
      "metadata": {
        "colab": {
          "base_uri": "https://localhost:8080/"
        },
        "id": "-sZf3ySCi3H1",
        "outputId": "831fe164-9fb0-4671-b5b0-c4099f6fd5d2"
      },
      "execution_count": 46,
      "outputs": [
        {
          "output_type": "stream",
          "name": "stdout",
          "text": [
            "total validation cats images:  500\n"
          ]
        }
      ]
    },
    {
      "cell_type": "code",
      "source": [
        "print(\"total validation dogs images: \", len(os.listdir(validation_dogs_dir)))"
      ],
      "metadata": {
        "colab": {
          "base_uri": "https://localhost:8080/"
        },
        "id": "oxFq-QUji9so",
        "outputId": "fead4d48-aaa5-47e7-9957-d731c7c2b31e"
      },
      "execution_count": 47,
      "outputs": [
        {
          "output_type": "stream",
          "name": "stdout",
          "text": [
            "total validation dogs images:  500\n"
          ]
        }
      ]
    },
    {
      "cell_type": "markdown",
      "source": [
        "# Show Images"
      ],
      "metadata": {
        "id": "h2wxElHVjPr_"
      }
    },
    {
      "cell_type": "code",
      "source": [
        "# Parameters for our graph; we'll output images in a 4x4 configuration\n",
        "number_Of_rows = 4\n",
        "number_of_columns = 4"
      ],
      "metadata": {
        "id": "Pezq--72jaAf"
      },
      "execution_count": 48,
      "outputs": []
    },
    {
      "cell_type": "code",
      "source": [
        "fig = plt.gcf()  # Set up matplotlib fig\n",
        "fig.set_size_inches(number_of_columns * 4, number_Of_rows * 4)  # then size it to fit 4x4 pics"
      ],
      "metadata": {
        "colab": {
          "base_uri": "https://localhost:8080/",
          "height": 34
        },
        "id": "OTbbMmnQjyoZ",
        "outputId": "f176cf74-b99a-46ca-f290-6c5eaba4f3b3"
      },
      "execution_count": 49,
      "outputs": [
        {
          "output_type": "display_data",
          "data": {
            "text/plain": [
              "<Figure size 1152x1152 with 0 Axes>"
            ]
          },
          "metadata": {}
        }
      ]
    },
    {
      "cell_type": "code",
      "source": [
        "train_cats_names = os.listdir(train_cats_dir)"
      ],
      "metadata": {
        "id": "Rax7qnankI1n"
      },
      "execution_count": 50,
      "outputs": []
    },
    {
      "cell_type": "code",
      "source": [
        "train_dogs_names = os.listdir(train_dogs_dir)"
      ],
      "metadata": {
        "id": "XE67lIXOk-BG"
      },
      "execution_count": 51,
      "outputs": []
    },
    {
      "cell_type": "code",
      "source": [
        "train_cats_names[0:5]"
      ],
      "metadata": {
        "id": "gh9lSLAhkYGa",
        "colab": {
          "base_uri": "https://localhost:8080/"
        },
        "outputId": "f09f4122-7f8a-4b05-826c-9f689c24b2c1"
      },
      "execution_count": 52,
      "outputs": [
        {
          "output_type": "execute_result",
          "data": {
            "text/plain": [
              "['cat.493.jpg', 'cat.987.jpg', 'cat.747.jpg', 'cat.671.jpg', 'cat.961.jpg']"
            ]
          },
          "metadata": {},
          "execution_count": 52
        }
      ]
    },
    {
      "cell_type": "code",
      "source": [
        "picture_index = 0"
      ],
      "metadata": {
        "id": "TocZq4sskhcn"
      },
      "execution_count": 53,
      "outputs": []
    },
    {
      "cell_type": "code",
      "source": [
        "# It is ussed to increment the picture index so you see new pictures \n",
        "# every time you run it from this line\n",
        "\n",
        "picture_index += 8 "
      ],
      "metadata": {
        "id": "KDvuBI98kkkp"
      },
      "execution_count": 54,
      "outputs": []
    },
    {
      "cell_type": "code",
      "source": [
        "next_cat_pix = [os.path.join(train_cats_dir, fname)  # create a list with 8 horses pictures\n",
        "                  for fname in train_cats_names[picture_index-8:picture_index]]"
      ],
      "metadata": {
        "id": "tY7H-GpgkqRJ"
      },
      "execution_count": 55,
      "outputs": []
    },
    {
      "cell_type": "code",
      "source": [
        "next_dog_pix = [os.path.join(train_dogs_dir, fname)  # create a list with 8 human pictures\n",
        "                  for fname in train_dogs_names[picture_index-8:picture_index]]\n"
      ],
      "metadata": {
        "id": "WyJRoYRwk1Yg"
      },
      "execution_count": 56,
      "outputs": []
    },
    {
      "cell_type": "code",
      "source": [
        "for i, img_path in enumerate(next_cat_pix+next_dog_pix):\n",
        "    sp = plt.subplot(number_Of_rows, number_of_columns, i + 1)  # Set up subplot; subplot indices start at 1\n",
        "    sp.axis('Off')  # Don't show axes (or gridlines)\n",
        "\n",
        "    img = mpimg.imread(img_path)\n",
        "    plt.imshow(img)\n",
        "\n",
        "plt.show()"
      ],
      "metadata": {
        "colab": {
          "base_uri": "https://localhost:8080/",
          "height": 248
        },
        "id": "OGEPBVvllGVn",
        "outputId": "90c57e17-9ec8-4c64-aee4-4a18a0e98cb0"
      },
      "execution_count": 57,
      "outputs": [
        {
          "output_type": "display_data",
          "data": {
            "text/plain": [
              "<Figure size 432x288 with 16 Axes>"
            ],
            "image/png": "[encoded data removed]"
          },
          "metadata": {
            "needs_background": "light"
          }
        }
      ]
    },
    {
      "cell_type": "markdown",
      "source": [
        "# Create Deep Neural Netwrok Model\n",
        "In this exercise, we are creating a Sequential Model with:\n",
        "\n",
        "\n",
        "1.   3 Convolutional Layers (tf.keras.layers.Conv2D)\n",
        "     \n",
        "     Convolutional layers are the layers where filters are applied to the original image, or to other feature maps in a deep CNN. This is where most of the user-specified parameters are in the network. The most important parameters are the number of kernels and the size of the kernels. (Matthew Stewart - Simple Introduction to Convolutional Neural Networks [link text](https://towardsdatascience.com/simple-introduction-to-convolutional-neural-networks-cdf8d3077bac#:~:text=Convolutional%20layers%20are%20the%20layers,the%20size%20of%20the%20kernels.))\n",
        "\n",
        "\n",
        "2.   3 Maxpooling Layers (tf.keras.layers.MaxPooling2D)\n",
        "3.   3 [Dropout Layers](https://machinelearningmastery.com/dropout-regularization-deep-learning-models-keras/) (tf.keras.layers.Dropout)\n",
        "4.   1 Flatten Layer (tf.keras.layers.Flatten)\n",
        "5.   1 Hidden Layer(tf.keras.layers.Dense(128, activation='relu')\n",
        "6.   1 Output Layer (tf.keras.layers.Dense(1, activation='sigmoid')\n",
        "7.   [2 Activation Functions - relu and sigmoid](https://www.youtube.com/watch?v=m0pIlLfpXWE&list=PLku20RxmCw282UoYgfhIlrH4ja62vGb5n&index=5)\n",
        "\n",
        "\n",
        "\n",
        "\n"
      ],
      "metadata": {
        "id": "cQYHoiTsmEjx"
      }
    },
    {
      "cell_type": "code",
      "source": [
        "seqmodel = tf.keras.models.Sequential([ tf.keras.layers.Conv2D(32,(3, 3), activation='relu', input_shape=(150,150,3) ),\n",
        "                                       tf.keras.layers.MaxPooling2D(2,2),\n",
        "                                       tf.keras.layers.Conv2D(64,(3, 3), activation='relu' ),\n",
        "                                       tf.keras.layers.MaxPooling2D(2,2),\n",
        "                                       tf.keras.layers.Conv2D(128,(3, 3), activation='relu' ),\n",
        "                                       tf.keras.layers.Dropout(0.25),\n",
        "                                       tf.keras.layers.MaxPooling2D(2,2),\n",
        "                                       tf.keras.layers.Dropout(0.25),\n",
        "                                       tf.keras.layers.Flatten(),\n",
        "                                       tf.keras.layers.Dense(128, activation='relu'),\n",
        "                                       tf.keras.layers.Dropout(0.5),\n",
        "                                       tf.keras.layers.Dense(1, activation='sigmoid')\n",
        "    \n",
        "      \n",
        "                              ])"
      ],
      "metadata": {
        "id": "Gc8IViNjmJbq"
      },
      "execution_count": 58,
      "outputs": []
    },
    {
      "cell_type": "markdown",
      "source": [
        "Show **Model Summary**"
      ],
      "metadata": {
        "id": "wMpEeOhvAiBB"
      }
    },
    {
      "cell_type": "code",
      "source": [
        "seqmodel.summary()"
      ],
      "metadata": {
        "id": "8LdgMRAspJbC",
        "colab": {
          "base_uri": "https://localhost:8080/"
        },
        "outputId": "ab9d8d68-79fc-4690-b676-4d3e8368e04b"
      },
      "execution_count": 59,
      "outputs": [
        {
          "output_type": "stream",
          "name": "stdout",
          "text": [
            "Model: \"sequential\"\n",
            "_________________________________________________________________\n",
            " Layer (type)                Output Shape              Param #   \n",
            "=================================================================\n",
            " conv2d (Conv2D)             (None, 148, 148, 32)      896       \n",
            "                                                                 \n",
            " max_pooling2d (MaxPooling2D  (None, 74, 74, 32)       0         \n",
            " )                                                               \n",
            "                                                                 \n",
            " conv2d_1 (Conv2D)           (None, 72, 72, 64)        18496     \n",
            "                                                                 \n",
            " max_pooling2d_1 (MaxPooling  (None, 36, 36, 64)       0         \n",
            " 2D)                                                             \n",
            "                                                                 \n",
            " conv2d_2 (Conv2D)           (None, 34, 34, 128)       73856     \n",
            "                                                                 \n",
            " dropout (Dropout)           (None, 34, 34, 128)       0         \n",
            "                                                                 \n",
            " max_pooling2d_2 (MaxPooling  (None, 17, 17, 128)      0         \n",
            " 2D)                                                             \n",
            "                                                                 \n",
            " dropout_1 (Dropout)         (None, 17, 17, 128)       0         \n",
            "                                                                 \n",
            " flatten (Flatten)           (None, 36992)             0         \n",
            "                                                                 \n",
            " dense (Dense)               (None, 128)               4735104   \n",
            "                                                                 \n",
            " dropout_2 (Dropout)         (None, 128)               0         \n",
            "                                                                 \n",
            " dense_1 (Dense)             (None, 1)                 129       \n",
            "                                                                 \n",
            "=================================================================\n",
            "Total params: 4,828,481\n",
            "Trainable params: 4,828,481\n",
            "Non-trainable params: 0\n",
            "_________________________________________________________________\n"
          ]
        }
      ]
    },
    {
      "cell_type": "code",
      "source": [
        "seqmodel.compile(loss=\"binary_crossentropy\",\n",
        "                 optimizer=\"adam\",\n",
        "                 metrics=['accuracy'])"
      ],
      "metadata": {
        "id": "LXgAQ1WCpaxU"
      },
      "execution_count": 60,
      "outputs": []
    },
    {
      "cell_type": "markdown",
      "source": [
        "# ImageDataGenerator\n",
        "\n",
        "  Calling ([image_dataset_from_directorymain_directory, labels='inferred')](https://keras.io/api/preprocessing/image/)  will return a tf.data.Dataset that yields batches of images from the subdirectories class_a and class_b, together with labels 0 and 1 (0 corresponding to class_a and 1 corresponding to class_b). "
      ],
      "metadata": {
        "id": "-dcd6kNbp2KU"
      }
    },
    {
      "cell_type": "markdown",
      "source": [
        "## Image Augmentation\n",
        "Image augmentation is a process of creating new training examples from the existing ones. To make new samples, you slightly change the original images by, for instance, horizontally or vertically flipping the images, rotating or zooming them.\n",
        "\n",
        "Please see the [Notebook Image Augmentation](https://github.com/saurater/deeplearningwithsamfaraday/blob/main/Tensorflow_Image_Augmentation.ipynb) for further details and hands-on work. "
      ],
      "metadata": {
        "id": "TeXMJGs0MKlg"
      }
    },
    {
      "cell_type": "code",
      "source": [
        "train_data_gen = ImageDataGenerator(rescale=1. / 255,\n",
        "                                    rotation_range=15,\n",
        "                                    width_shift_range=0.1,\n",
        "                                    height_shift_range=0.1,\n",
        "                                    shear_range=0.1,\n",
        "                                    zoom_range=0.2,\n",
        "                                    horizontal_flip=True,\n",
        "                                    fill_mode='nearest')"
      ],
      "metadata": {
        "id": "dW3RXmKEp5Og"
      },
      "execution_count": 61,
      "outputs": []
    },
    {
      "cell_type": "code",
      "source": [
        "validation_datagen = ImageDataGenerator(rescale=1./255.)"
      ],
      "metadata": {
        "id": "jzUQGIQyrYjW"
      },
      "execution_count": 62,
      "outputs": []
    },
    {
      "cell_type": "code",
      "source": [
        "train_grenerator = train_data_gen.flow_from_directory('./cats_and_dogs_filtered/train/',\n",
        "target_size=(150,150),\n",
        "batch_size=20,\n",
        "class_mode='binary')"
      ],
      "metadata": {
        "colab": {
          "base_uri": "https://localhost:8080/"
        },
        "id": "ZravkK75rr3R",
        "outputId": "2958a589-2aed-43e6-f892-b9c8af3526ae"
      },
      "execution_count": 63,
      "outputs": [
        {
          "output_type": "stream",
          "name": "stdout",
          "text": [
            "Found 2000 images belonging to 2 classes.\n"
          ]
        }
      ]
    },
    {
      "cell_type": "code",
      "source": [
        "validation_generator = validation_datagen.flow_from_directory('./cats_and_dogs_filtered/validation/',\n",
        "                                                              target_size=(150,150),\n",
        "batch_size=20,\n",
        "class_mode='binary')"
      ],
      "metadata": {
        "colab": {
          "base_uri": "https://localhost:8080/"
        },
        "id": "cwx43oRhsdRQ",
        "outputId": "440f3c9c-64e5-4fe5-a25c-6165ba21ff88"
      },
      "execution_count": 64,
      "outputs": [
        {
          "output_type": "stream",
          "name": "stdout",
          "text": [
            "Found 1000 images belonging to 2 classes.\n"
          ]
        }
      ]
    },
    {
      "cell_type": "markdown",
      "source": [
        "# Train the Model"
      ],
      "metadata": {
        "id": "4kAkNykJxlcv"
      }
    },
    {
      "cell_type": "markdown",
      "source": [
        "## Early Stop\n",
        "**Keras EarlyStopping** stops training when a monitored metric has stopped improving. In this case, we have set patiece=5, with means the system will stop training the model in case, after 5 epochs no better accuracy is reached."
      ],
      "metadata": {
        "id": "xqV9AzQSN1Go"
      }
    },
    {
      "cell_type": "code",
      "source": [
        "es = EarlyStopping(patience=5, \n",
        "                   monitor='val_accuracy', \n",
        "                   mode='max', \n",
        "                   verbose=1, \n",
        "                   restore_best_weights=True)"
      ],
      "metadata": {
        "id": "mVTEHL_4JI9f"
      },
      "execution_count": 65,
      "outputs": []
    },
    {
      "cell_type": "markdown",
      "source": [
        "## Model Training"
      ],
      "metadata": {
        "id": "k6Uo-uZyN7CA"
      }
    },
    {
      "cell_type": "code",
      "source": [
        "history= seqmodel.fit(train_grenerator, \n",
        "             steps_per_epoch=100,\n",
        "             epochs=50, \n",
        "             verbose=1,\n",
        "             validation_data=validation_generator,\n",
        "             validation_steps=8,\n",
        "             shuffle=True,\n",
        "             callbacks=[es]) # callbacks will run the Early Stop defined in the previous cell"
      ],
      "metadata": {
        "colab": {
          "base_uri": "https://localhost:8080/"
        },
        "id": "V39EsqB7s-sW",
        "outputId": "2006dd0f-a054-4e7e-f61a-fc278632eee9"
      },
      "execution_count": 66,
      "outputs": [
        {
          "output_type": "stream",
          "name": "stdout",
          "text": [
            "Epoch 1/50\n",
            "100/100 [==============================] - 30s 155ms/step - loss: 0.7022 - accuracy: 0.5225 - val_loss: 0.7022 - val_accuracy: 0.4062\n",
            "Epoch 2/50\n",
            "100/100 [==============================] - 15s 150ms/step - loss: 0.6785 - accuracy: 0.5690 - val_loss: 0.7169 - val_accuracy: 0.5125\n",
            "Epoch 3/50\n",
            "100/100 [==============================] - 15s 150ms/step - loss: 0.6733 - accuracy: 0.5835 - val_loss: 0.6552 - val_accuracy: 0.6187\n",
            "Epoch 4/50\n",
            "100/100 [==============================] - 16s 159ms/step - loss: 0.6629 - accuracy: 0.5890 - val_loss: 0.6465 - val_accuracy: 0.6250\n",
            "Epoch 5/50\n",
            "100/100 [==============================] - 16s 163ms/step - loss: 0.6548 - accuracy: 0.6020 - val_loss: 0.6282 - val_accuracy: 0.6500\n",
            "Epoch 6/50\n",
            "100/100 [==============================] - 24s 244ms/step - loss: 0.6353 - accuracy: 0.6400 - val_loss: 0.6088 - val_accuracy: 0.7250\n",
            "Epoch 7/50\n",
            "100/100 [==============================] - 18s 175ms/step - loss: 0.6151 - accuracy: 0.6640 - val_loss: 0.6011 - val_accuracy: 0.7750\n",
            "Epoch 8/50\n",
            "100/100 [==============================] - 16s 160ms/step - loss: 0.5818 - accuracy: 0.6965 - val_loss: 0.5516 - val_accuracy: 0.6938\n",
            "Epoch 9/50\n",
            "100/100 [==============================] - 17s 172ms/step - loss: 0.5962 - accuracy: 0.6790 - val_loss: 0.5868 - val_accuracy: 0.6687\n",
            "Epoch 10/50\n",
            "100/100 [==============================] - 16s 158ms/step - loss: 0.5699 - accuracy: 0.6990 - val_loss: 0.5671 - val_accuracy: 0.7312\n",
            "Epoch 11/50\n",
            "100/100 [==============================] - 17s 170ms/step - loss: 0.5643 - accuracy: 0.7165 - val_loss: 0.5153 - val_accuracy: 0.7437\n",
            "Epoch 12/50\n",
            "100/100 [==============================] - ETA: 0s - loss: 0.5501 - accuracy: 0.7250Restoring model weights from the end of the best epoch: 7.\n",
            "100/100 [==============================] - 16s 155ms/step - loss: 0.5501 - accuracy: 0.7250 - val_loss: 0.5494 - val_accuracy: 0.6625\n",
            "Epoch 12: early stopping\n"
          ]
        }
      ]
    },
    {
      "cell_type": "markdown",
      "source": [
        "# Check Metrics"
      ],
      "metadata": {
        "id": "0pCrE9_ZOJ2w"
      }
    },
    {
      "cell_type": "code",
      "source": [
        "acc = history.history['accuracy']\n",
        "val_acc = history.history['val_accuracy']\n",
        "loss = history.history['loss']\n",
        "val_loss = history.history['val_loss']\n",
        "\n",
        "epochs = range(len(acc))\n",
        "\n",
        "plt.plot(epochs, acc, 'b', label='Training accuracy')\n",
        "plt.plot(epochs, val_acc, 'r', label='Validation accuracy')\n",
        "plt.title('Training and Validation accuracy')\n",
        "plt.legend()\n",
        "\n",
        "plt.figure()\n",
        "\n",
        "plt.plot(epochs, loss, 'b', label='Training Loss')\n",
        "plt.plot(epochs, val_loss, 'r', label='Validation Loss')\n",
        "plt.title('Training and Validation loss')\n",
        "plt.legend()\n",
        "\n",
        "plt.show()"
      ],
      "metadata": {
        "colab": {
          "base_uri": "https://localhost:8080/",
          "height": 545
        },
        "id": "VhQPUIPWziRR",
        "outputId": "227ae7ac-00f7-425a-dff2-a10c8c0e4903"
      },
      "execution_count": 67,
      "outputs": [
        {
          "output_type": "display_data",
          "data": {
            "text/plain": [
              "<Figure size 432x288 with 1 Axes>"
            ],
            "image/png": "[encoded data removed]"
          },
          "metadata": {
            "needs_background": "light"
          }
        },
        {
          "output_type": "display_data",
          "data": {
            "text/plain": [
              "<Figure size 432x288 with 1 Axes>"
            ],
            "image/png": "[encoded data removed]"
          },
          "metadata": {
            "needs_background": "light"
          }
        }
      ]
    },
    {
      "cell_type": "markdown",
      "source": [
        "# Save the Model"
      ],
      "metadata": {
        "id": "22TE81k6zU-v"
      }
    },
    {
      "cell_type": "code",
      "source": [
        "seqmodel.save('./mymodel.h5', save_format=\"h5\")"
      ],
      "metadata": {
        "id": "t-JdX5fYzXm3"
      },
      "execution_count": 68,
      "outputs": []
    }
  ]
}