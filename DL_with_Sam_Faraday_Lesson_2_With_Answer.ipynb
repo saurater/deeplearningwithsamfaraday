{
  "nbformat": 4,
  "nbformat_minor": 0,
  "metadata": {
    "colab": {
      "name": "DL_with_Sam_Faraday_Lesson_2_With_Answer.ipynb",
      "provenance": [],
      "collapsed_sections": [],
      "include_colab_link": true
    },
    "kernelspec": {
      "name": "python3",
      "display_name": "Python 3"
    },
    "language_info": {
      "name": "python"
    }
  },
  "cells": [
    {
      "cell_type": "markdown",
      "metadata": {
        "id": "view-in-github",
        "colab_type": "text"
      },
      "source": [
        "<a href=\"https://colab.research.google.com/github/saurater/deeplearningwithsamfaraday/blob/main/DL_with_Sam_Faraday_Lesson_2_With_Answer.ipynb\" target=\"_parent\"><img src=\"https://colab.research.google.com/assets/colab-badge.svg\" alt=\"Open In Colab\"/></a>"
      ]
    },
    {
      "cell_type": "code",
      "source": [
        "import os"
      ],
      "metadata": {
        "id": "lCNXrQR-pLnn"
      },
      "execution_count": 1,
      "outputs": []
    },
    {
      "cell_type": "markdown",
      "source": [
        "# Deep Learning With Sam Faraday\n",
        "## Lesson 2 with Answer"
      ],
      "metadata": {
        "id": "wzB8qXNaXxJ7"
      }
    },
    {
      "cell_type": "markdown",
      "source": [
        "# Assignemt\n",
        "\n",
        "Homework 2\n",
        "\n",
        "Deadline: August 10th, 10 pm\n",
        "\n",
        "Based on Homework 1, please\n",
        "\n",
        "1. Create a directory named my_images_directory\n",
        "\n",
        "2. Download the zip file the link below to it\n",
        "\n",
        "\n",
        "https://storage.googleapis.com/tensorflow-1-public/course2/cats_and_dogs_filtered.zip\n",
        "\n",
        "3. Unzip the file cats_and_dogs_filtered.zip using the line below\n",
        "\n",
        "from zipfile import ZipFile\n",
        "\n",
        "print(\"Unzipping files\")\n",
        "    ZipFile('./images/cats_and_dogs_filtered.zip', 'r').extractall(\"./my_images_directory\")\n",
        "\n",
        "\n",
        "4.  Then visually analise it\n",
        "\n",
        "5.  Delete all files whose extension is deferrent from *.jpg"
      ],
      "metadata": {
        "id": "OsXNy6yBYGk4"
      }
    },
    {
      "cell_type": "code",
      "source": [
        "!pip install wget"
      ],
      "metadata": {
        "colab": {
          "base_uri": "https://localhost:8080/"
        },
        "id": "vINZRJMDorVV",
        "outputId": "91566e2c-1752-4fdc-9840-9d25d71d8177"
      },
      "execution_count": 2,
      "outputs": [
        {
          "output_type": "stream",
          "name": "stdout",
          "text": [
            "Looking in indexes: https://pypi.org/simple, https://us-python.pkg.dev/colab-wheels/public/simple/\n",
            "Collecting wget\n",
            "  Downloading wget-3.2.zip (10 kB)\n",
            "Building wheels for collected packages: wget\n",
            "  Building wheel for wget (setup.py) ... \u001b[?25l\u001b[?25hdone\n",
            "  Created wheel for wget: filename=wget-3.2-py3-none-any.whl size=9675 sha256=75e33eccc5c46d4771f983717aa17156f4a258f14d3aaed1711069593f68351b\n",
            "  Stored in directory: /root/.cache/pip/wheels/a1/b6/7c/0e63e34eb06634181c63adacca38b79ff8f35c37e3c13e3c02\n",
            "Successfully built wget\n",
            "Installing collected packages: wget\n",
            "Successfully installed wget-3.2\n"
          ]
        }
      ]
    },
    {
      "cell_type": "code",
      "source": [
        "import wget"
      ],
      "metadata": {
        "id": "QpvD-lPVorZB"
      },
      "execution_count": 3,
      "outputs": []
    },
    {
      "cell_type": "code",
      "source": [
        "# zipfile - Lib to zip and unzip files\n",
        "from zipfile import ZipFile"
      ],
      "metadata": {
        "id": "tGlHMG95ordJ"
      },
      "execution_count": 4,
      "outputs": []
    },
    {
      "cell_type": "code",
      "source": [
        "# Get the Current Working Directory\n",
        "os.getcwd()"
      ],
      "metadata": {
        "colab": {
          "base_uri": "https://localhost:8080/",
          "height": 36
        },
        "id": "mmPpdvziorx2",
        "outputId": "90aaafe2-5e52-4b1c-de49-46291c7d77ef"
      },
      "execution_count": 5,
      "outputs": [
        {
          "output_type": "execute_result",
          "data": {
            "text/plain": [
              "'/content'"
            ],
            "application/vnd.google.colaboratory.intrinsic+json": {
              "type": "string"
            }
          },
          "metadata": {},
          "execution_count": 5
        }
      ]
    },
    {
      "cell_type": "code",
      "source": [
        "!mkdir my_images_directory\n"
      ],
      "metadata": {
        "id": "iOdAmqQUor0p"
      },
      "execution_count": 6,
      "outputs": []
    },
    {
      "cell_type": "code",
      "source": [
        "!mkdir my_images_directory/images\n"
      ],
      "metadata": {
        "id": "WgsrbedET6mk"
      },
      "execution_count": 7,
      "outputs": []
    },
    {
      "cell_type": "code",
      "source": [
        "os.chdir('/content/my_images_directory')"
      ],
      "metadata": {
        "id": "Gg73Hw87T8sy"
      },
      "execution_count": 8,
      "outputs": []
    },
    {
      "cell_type": "code",
      "source": [
        "os.getcwd()"
      ],
      "metadata": {
        "colab": {
          "base_uri": "https://localhost:8080/",
          "height": 36
        },
        "id": "19nkWfTYT-Yi",
        "outputId": "b4e72a35-dee1-451d-a3c1-0230ad1343f1"
      },
      "execution_count": 9,
      "outputs": [
        {
          "output_type": "execute_result",
          "data": {
            "text/plain": [
              "'/content/my_images_directory'"
            ],
            "application/vnd.google.colaboratory.intrinsic+json": {
              "type": "string"
            }
          },
          "metadata": {},
          "execution_count": 9
        }
      ]
    },
    {
      "cell_type": "code",
      "source": [
        "wget.download(\"https://storage.googleapis.com/tensorflow-1-public/course2/cats_and_dogs_filtered.zip\",\n",
        "                  out=\"./cats_and_dogs_filtered.zip\")"
      ],
      "metadata": {
        "colab": {
          "base_uri": "https://localhost:8080/",
          "height": 36
        },
        "id": "Il_2oHFfor5U",
        "outputId": "58b4035c-3398-4be1-87d1-65a5b090bfd8"
      },
      "execution_count": 10,
      "outputs": [
        {
          "output_type": "execute_result",
          "data": {
            "text/plain": [
              "'./cats_and_dogs_filtered.zip'"
            ],
            "application/vnd.google.colaboratory.intrinsic+json": {
              "type": "string"
            }
          },
          "metadata": {},
          "execution_count": 10
        }
      ]
    },
    {
      "cell_type": "code",
      "source": [
        "ZipFile('./cats_and_dogs_filtered.zip', 'r').extractall(\"./images\") # if so, download it to the folder imag"
      ],
      "metadata": {
        "id": "m-IiBg4omu7H"
      },
      "execution_count": 11,
      "outputs": []
    },
    {
      "cell_type": "code",
      "source": [
        "my_directory_list_var = os.listdir(\"./images/cats_and_dogs_filtered/train/cats\")\n"
      ],
      "metadata": {
        "id": "5XQwjzjZraLz"
      },
      "execution_count": 12,
      "outputs": []
    },
    {
      "cell_type": "code",
      "source": [
        "# iterate through the list, printing each object name\n",
        "counter = 0\n",
        "for files in my_directory_list_var:\n",
        "  counter += 1\n",
        "  if counter > 10:\n",
        "    break\n",
        "\n",
        "  print(files)\n"
      ],
      "metadata": {
        "colab": {
          "base_uri": "https://localhost:8080/"
        },
        "id": "uwRQ1CdZs9ed",
        "outputId": "899a2c03-2fc9-4600-8b39-3b6de5060de4"
      },
      "execution_count": 13,
      "outputs": [
        {
          "output_type": "stream",
          "name": "stdout",
          "text": [
            "cat.758.jpg\n",
            "cat.311.jpg\n",
            "cat.989.jpg\n",
            "cat.994.jpg\n",
            "cat.574.jpg\n",
            "cat.987.jpg\n",
            "cat.981.jpg\n",
            "cat.927.jpg\n",
            "cat.480.jpg\n",
            "cat.628.jpg\n"
          ]
        }
      ]
    },
    {
      "cell_type": "code",
      "source": [
        "base_path = \"./images/cats_and_dogs_filtered\"\n",
        "for(cur_dir, subdirs, files) in os.walk(base_path):\n",
        "  for file in files:\n",
        "    fname, fext = os.path.splitext(file)\n",
        "    if fext.casefold() != \".jpg\":\n",
        "      os.remove(os.path.join(cur_dir, file))\n",
        "      print(os.path.join(cur_dir, file))"
      ],
      "metadata": {
        "id": "m26xfs7Hs9iO",
        "colab": {
          "base_uri": "https://localhost:8080/"
        },
        "outputId": "d07b6fd1-20fb-44ae-fe05-1242f471223e"
      },
      "execution_count": 14,
      "outputs": [
        {
          "output_type": "stream",
          "name": "stdout",
          "text": [
            "./images/cats_and_dogs_filtered/vectorize.py\n"
          ]
        }
      ]
    }
  ]
}