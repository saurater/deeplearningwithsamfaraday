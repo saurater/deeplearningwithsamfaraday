{
  "nbformat": 4,
  "nbformat_minor": 0,
  "metadata": {
    "colab": {
      "name": "DL_with_Sam_Lesson_1_With_Answer.ipynb",
      "provenance": [],
      "collapsed_sections": [],
      "authorship_tag": "ABX9TyO2r5Gc3mW6yThxoN/neRKM",
      "include_colab_link": true
    },
    "kernelspec": {
      "name": "python3",
      "display_name": "Python 3"
    },
    "language_info": {
      "name": "python"
    }
  },
  "cells": [
    {
      "cell_type": "markdown",
      "metadata": {
        "id": "view-in-github",
        "colab_type": "text"
      },
      "source": [
        "<a href=\"https://colab.research.google.com/github/saurater/deeplearningwithsamfaraday/blob/main/DL_with_Sam_Lesson_1_With_Answer.ipynb\" target=\"_parent\"><img src=\"https://colab.research.google.com/assets/colab-badge.svg\" alt=\"Open In Colab\"/></a>"
      ]
    },
    {
      "cell_type": "markdown",
      "source": [
        "### Deep Learning with Sam Faraday - from Zero to Hero - Lesson 1 with Homework Answer\n",
        "\n",
        "# Downloading Images and Working with the Operating System\n"
      ],
      "metadata": {
        "id": "rYMtREVH7qFo"
      }
    },
    {
      "cell_type": "markdown",
      "source": [
        "# Note\n",
        "\n",
        "In case you'd like to run the whole notebook from start, first go to Runtime --> Disconnect and Delete Runtime\n",
        "\n",
        "All folders and files will be deleted, then run each cell again\n",
        "\n",
        "Select the Files icon to left to see the Directories\n",
        "\n",
        "Use the Refresh Button whenever you create or delete any object\n",
        "\n",
        "**Linux** does not allow to delete a directory that contains any object, that's why it is easier to disconnect and  Delete Runtime."
      ],
      "metadata": {
        "id": "p-84YKJVLlI7"
      }
    },
    {
      "cell_type": "markdown",
      "source": [
        "# 1. Create Working Folders\n",
        "\n",
        "! is used to run Linux Commands in Google Colab\n",
        "\n",
        "mkdir - makes/ creates a directory"
      ],
      "metadata": {
        "id": "GxKDI_pOE5zP"
      }
    },
    {
      "cell_type": "code",
      "source": [
        "!mkdir TF_images_lab"
      ],
      "metadata": {
        "id": "3R9iFfGMDKSQ"
      },
      "execution_count": null,
      "outputs": []
    },
    {
      "cell_type": "code",
      "source": [
        "!mkdir TF_images_lab/c2"
      ],
      "metadata": {
        "id": "mQoQYE5uDXMh"
      },
      "execution_count": null,
      "outputs": []
    },
    {
      "cell_type": "code",
      "source": [
        "!mkdir TF_images_lab/c2/images"
      ],
      "metadata": {
        "id": "9aRKQ9AVET6h"
      },
      "execution_count": null,
      "outputs": []
    },
    {
      "cell_type": "markdown",
      "source": [
        "# 2. Install and Import Working Libraries"
      ],
      "metadata": {
        "id": "35QUCbYXFlCw"
      }
    },
    {
      "cell_type": "code",
      "execution_count": null,
      "metadata": {
        "id": "zjMF1ruw7jPl"
      },
      "outputs": [],
      "source": [
        "# os - Operating System - It allows you to run os commands\n",
        "# it is usually install with Python default installation\n",
        "import os"
      ]
    },
    {
      "cell_type": "code",
      "source": [
        "# pip is a command to install Python Libraries"
      ],
      "metadata": {
        "id": "uGx6FrgxGFP-"
      },
      "execution_count": null,
      "outputs": []
    },
    {
      "cell_type": "code",
      "source": [
        "# wget - it downloads files from the web"
      ],
      "metadata": {
        "id": "O1hY7ZyOI88W"
      },
      "execution_count": null,
      "outputs": []
    },
    {
      "cell_type": "code",
      "source": [
        "pip install wget"
      ],
      "metadata": {
        "colab": {
          "base_uri": "https://localhost:8080/"
        },
        "id": "dpRzx_mMGY9l",
        "outputId": "03b6c1dd-63b2-4db6-b805-f143e1609a69"
      },
      "execution_count": null,
      "outputs": [
        {
          "output_type": "stream",
          "name": "stdout",
          "text": [
            "Looking in indexes: https://pypi.org/simple, https://us-python.pkg.dev/colab-wheels/public/simple/\n",
            "Collecting wget\n",
            "  Downloading wget-3.2.zip (10 kB)\n",
            "Building wheels for collected packages: wget\n",
            "  Building wheel for wget (setup.py) ... \u001b[?25l\u001b[?25hdone\n",
            "  Created wheel for wget: filename=wget-3.2-py3-none-any.whl size=9675 sha256=a5bd60f07231e56a231c282db3855515a302dfbd33a382286729b2b661447c70\n",
            "  Stored in directory: /root/.cache/pip/wheels/a1/b6/7c/0e63e34eb06634181c63adacca38b79ff8f35c37e3c13e3c02\n",
            "Successfully built wget\n",
            "Installing collected packages: wget\n",
            "Successfully installed wget-3.2\n"
          ]
        }
      ]
    },
    {
      "cell_type": "code",
      "source": [
        "import wget"
      ],
      "metadata": {
        "id": "E-eqfpbXF1OO"
      },
      "execution_count": null,
      "outputs": []
    },
    {
      "cell_type": "code",
      "source": [
        "# zipfile - Lib to zip and unzip files\n",
        "from zipfile import ZipFile"
      ],
      "metadata": {
        "id": "K1hkJOUqH_zU"
      },
      "execution_count": null,
      "outputs": []
    },
    {
      "cell_type": "markdown",
      "source": [
        "# 3. Change Working Directory"
      ],
      "metadata": {
        "id": "hv50HPUdGyMW"
      }
    },
    {
      "cell_type": "code",
      "source": [
        "# Get the Current Working Directory\n",
        "os.getcwd()"
      ],
      "metadata": {
        "colab": {
          "base_uri": "https://localhost:8080/",
          "height": 36
        },
        "id": "kxy903_DFS6z",
        "outputId": "39ad7148-5ff1-416e-933e-e9efb3749c3b"
      },
      "execution_count": null,
      "outputs": [
        {
          "output_type": "execute_result",
          "data": {
            "text/plain": [
              "'/content'"
            ],
            "application/vnd.google.colaboratory.intrinsic+json": {
              "type": "string"
            }
          },
          "metadata": {},
          "execution_count": 10
        }
      ]
    },
    {
      "cell_type": "code",
      "source": [
        "# Change Directory \n",
        "os.chdir(\"/content/TF_images_lab/c2\")"
      ],
      "metadata": {
        "id": "9vfB5L6BFWBE"
      },
      "execution_count": null,
      "outputs": []
    },
    {
      "cell_type": "code",
      "source": [
        "# Get the Current Working Directory\n",
        "os.getcwd()"
      ],
      "metadata": {
        "colab": {
          "base_uri": "https://localhost:8080/",
          "height": 36
        },
        "id": "Zx2QVBHbHPAj",
        "outputId": "d7855463-6b4d-485f-85f8-8ccb53de1ae1"
      },
      "execution_count": null,
      "outputs": [
        {
          "output_type": "execute_result",
          "data": {
            "text/plain": [
              "'/content/TF_images_lab/c2'"
            ],
            "application/vnd.google.colaboratory.intrinsic+json": {
              "type": "string"
            }
          },
          "metadata": {},
          "execution_count": 12
        }
      ]
    },
    {
      "cell_type": "markdown",
      "source": [
        "# 4. Create a function to download and unzip the images files"
      ],
      "metadata": {
        "id": "UU3Kfi3OHl4W"
      }
    },
    {
      "cell_type": "code",
      "source": [
        "# wget.download(\"file url\", out=\"folder and file name\")\n",
        "def download_and_unzip_files():\n",
        "    print(\"Downloading Images\")\n",
        "    wget.download(\"https://download.microsoft.com/download/3/E/1/3E1C3F21-ECDB-4869-8368-6DEBA77B919F/kagglecatsanddogs_5340.zip\",\n",
        "                  out=\"./images/cats-and-dogs.zip\")\n",
        "\n",
        "    \n",
        "    print(\"Unzipping files\")\n",
        "    with ZipFile('./images/cats-and-dogs.zip', 'r') as zipObject:\n",
        "        listOfFileNames = zipObject.namelist() # creates a list (listOfFileNames) and and the files names  retrived with zipObject.namelist()\n",
        "        for fileName in listOfFileNames:  # then iterate over the list to get the file names\n",
        "            if fileName.startswith(\"PetImages\"): # check it is PetImages as there are other files we do not need to unzip\n",
        "                zipObject.extract(fileName, \"./images\") # if so, download it to the folder images\n",
        "\n"
      ],
      "metadata": {
        "id": "a7SsTlJbHmU0"
      },
      "execution_count": null,
      "outputs": []
    },
    {
      "cell_type": "code",
      "source": [
        "# run the function created above, then check the folders to the left. Click the Refresh Button\n",
        "download_and_unzip_files() "
      ],
      "metadata": {
        "colab": {
          "base_uri": "https://localhost:8080/"
        },
        "id": "7YNv3NSWHsms",
        "outputId": "6463760f-d74b-47bc-e2d7-77514eddfc96"
      },
      "execution_count": null,
      "outputs": [
        {
          "output_type": "stream",
          "name": "stdout",
          "text": [
            "Downloading Images\n",
            "Unzipping files\n"
          ]
        }
      ]
    },
    {
      "cell_type": "markdown",
      "source": [
        "# 5. Listing Directories Contents\n",
        "\n",
        "os.listdir - creates a list of the files in the directory"
      ],
      "metadata": {
        "id": "02KMG-H9RGAV"
      }
    },
    {
      "cell_type": "code",
      "source": [
        "# create a list containing of the objects in a specific directory\n",
        "my_directory_list_var = os.listdir(\"/content/TF_images_lab/c2/images\")"
      ],
      "metadata": {
        "id": "J5w2-eWcRGI0"
      },
      "execution_count": null,
      "outputs": []
    },
    {
      "cell_type": "code",
      "source": [
        "# print the list\n",
        "print(my_directory_list_var)"
      ],
      "metadata": {
        "colab": {
          "base_uri": "https://localhost:8080/"
        },
        "id": "kR1JyTozSaKj",
        "outputId": "301b2577-8e42-4e69-df38-7122de8ef883"
      },
      "execution_count": null,
      "outputs": [
        {
          "output_type": "stream",
          "name": "stdout",
          "text": [
            "['cats-and-dogs.zip', 'PetImages']\n"
          ]
        }
      ]
    },
    {
      "cell_type": "code",
      "source": [
        "# iterate through the list, printing each object name\n",
        "for x in my_directory_list_var:\n",
        "  print(x)"
      ],
      "metadata": {
        "colab": {
          "base_uri": "https://localhost:8080/"
        },
        "id": "Z3irzszqTG_0",
        "outputId": "28074fdb-1dca-4d3a-ad75-a1cf895dd6a8"
      },
      "execution_count": null,
      "outputs": [
        {
          "output_type": "stream",
          "name": "stdout",
          "text": [
            "cats-and-dogs.zip\n",
            "PetImages\n"
          ]
        }
      ]
    },
    {
      "cell_type": "markdown",
      "source": [
        "# Homework 1"
      ],
      "metadata": {
        "id": "9nkHO1OSUR2y"
      }
    },
    {
      "cell_type": "code",
      "source": [
        "# now it is your turn. Please print the first 10 objects in the /content/TF_images_lab/c2/images/PetImages/Cat directory\n",
        "\n",
        "# create a counter, then increment it\n",
        "\n",
        "# then check if it is bigger than 10, if so, break the loop"
      ],
      "metadata": {
        "id": "erJG0ac-Tr6y"
      },
      "execution_count": null,
      "outputs": []
    },
    {
      "cell_type": "code",
      "source": [
        "# create a counter, then increment it\n",
        "\n",
        "# list create the list\n",
        "my_directory_list_var = os.listdir(\"path\")\n",
        "\n",
        "# iterate\n",
        "for x in my_directory_list_var:\n",
        "  # increment the counter\n",
        "\n",
        "  # check if it is bigger than 10\n",
        "\n",
        "  # if so, break the loop\n",
        "  print(x)"
      ],
      "metadata": {
        "id": "NhZl0cVUUVjK"
      },
      "execution_count": null,
      "outputs": []
    },
    {
      "cell_type": "markdown",
      "source": [
        "## Homework 1 Answer"
      ],
      "metadata": {
        "id": "7zAqaFtnSlV-"
      }
    },
    {
      "cell_type": "code",
      "source": [
        "# now it is your turn. \n",
        "\n",
        "#Please print the first 10 objects in the /content/TF_images_lab/c2/images/PetImages/Cat directory\n",
        "\n",
        "my_directory_var =  \"/content/TF_images_lab/c2/images/PetImages/Cat\"\n",
        "\n",
        "# create a counter\n",
        "\n",
        "my_counter = 0\n",
        "\n",
        "# list create the list\n",
        "my_directory_list_var = os.listdir(my_directory_var)\n",
        "\n",
        "# iterate\n",
        "for my_files in my_directory_list_var:\n",
        "  # increment the counter\n",
        "  my_counter = my_counter + 1\n",
        "\n",
        "  # check if it is bigger than 10, # if so, break the loop\n",
        "  if my_counter > 10:\n",
        "    break\n",
        "\n",
        "  print(my_files)"
      ],
      "metadata": {
        "id": "wWrzr2w4StZG",
        "outputId": "2bbe6406-2434-47d4-b575-187be7fb6b85",
        "colab": {
          "base_uri": "https://localhost:8080/"
        }
      },
      "execution_count": null,
      "outputs": [
        {
          "output_type": "stream",
          "name": "stdout",
          "text": [
            "10113.jpg\n",
            "11151.jpg\n",
            "4235.jpg\n",
            "2820.jpg\n",
            "434.jpg\n",
            "9482.jpg\n",
            "11756.jpg\n",
            "6025.jpg\n",
            "6255.jpg\n",
            "6593.jpg\n"
          ]
        }
      ]
    }
  ]
}