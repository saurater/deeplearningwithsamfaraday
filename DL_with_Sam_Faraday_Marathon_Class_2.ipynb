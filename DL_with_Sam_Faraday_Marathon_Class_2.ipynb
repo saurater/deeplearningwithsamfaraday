{
  "nbformat": 4,
  "nbformat_minor": 0,
  "metadata": {
    "colab": {
      "name": "DL_with_Sam_Faraday_Marathon_Class_2.ipynb",
      "provenance": [],
      "collapsed_sections": [
        "CRW37Q9nqMJb",
        "sEOvgTdbqQ18",
        "WG9DXpfNqYPS",
        "YUtuirlxqf-v",
        "oQaGyhRgcFoJ",
        "Ge7mD8vAgOps",
        "Wl_63uK5jXFI"
      ],
      "authorship_tag": "ABX9TyMaXVtMOzJ12n1Sozou+2LJ",
      "include_colab_link": true
    },
    "kernelspec": {
      "name": "python3",
      "display_name": "Python 3"
    },
    "language_info": {
      "name": "python"
    }
  },
  "cells": [
    {
      "cell_type": "markdown",
      "metadata": {
        "id": "view-in-github",
        "colab_type": "text"
      },
      "source": [
        "<a href=\"https://colab.research.google.com/github/saurater/deeplearningwithsamfaraday/blob/main/DL_with_Sam_Faraday_Marathon_Class_2.ipynb\" target=\"_parent\"><img src=\"https://colab.research.google.com/assets/colab-badge.svg\" alt=\"Open In Colab\"/></a>"
      ]
    },
    {
      "cell_type": "markdown",
      "source": [
        "# 1. Import Libraries"
      ],
      "metadata": {
        "id": "CRW37Q9nqMJb"
      }
    },
    {
      "cell_type": "code",
      "execution_count": 1,
      "metadata": {
        "id": "J-rZkDHjJO-j"
      },
      "outputs": [],
      "source": [
        "from tensorflow import keras"
      ]
    },
    {
      "cell_type": "code",
      "source": [
        "import tensorflow as tf"
      ],
      "metadata": {
        "id": "iGNon1zDTxdK"
      },
      "execution_count": 2,
      "outputs": []
    },
    {
      "cell_type": "code",
      "source": [
        "print(tf.__version__)"
      ],
      "metadata": {
        "colab": {
          "base_uri": "https://localhost:8080/"
        },
        "id": "nR-p3fneUEmZ",
        "outputId": "7b58dc1d-0ec8-4270-9b95-72c8ab89b2ac"
      },
      "execution_count": 3,
      "outputs": [
        {
          "output_type": "stream",
          "name": "stdout",
          "text": [
            "2.8.2\n"
          ]
        }
      ]
    },
    {
      "cell_type": "code",
      "source": [
        "import numpy as np"
      ],
      "metadata": {
        "id": "m8srUNoWUMPH"
      },
      "execution_count": 4,
      "outputs": []
    },
    {
      "cell_type": "code",
      "source": [
        "import matplotlib.pyplot as plt"
      ],
      "metadata": {
        "id": "4pTOFKm_US5s"
      },
      "execution_count": 5,
      "outputs": []
    },
    {
      "cell_type": "markdown",
      "source": [
        "# 2. Aquire / Get Data"
      ],
      "metadata": {
        "id": "sEOvgTdbqQ18"
      }
    },
    {
      "cell_type": "code",
      "source": [
        "fmnist = keras.datasets.fashion_mnist"
      ],
      "metadata": {
        "id": "8AtzB2GiUfcR"
      },
      "execution_count": 92,
      "outputs": []
    },
    {
      "cell_type": "markdown",
      "source": [
        "# 3. Split Data\n",
        "training and validation (test)"
      ],
      "metadata": {
        "id": "WG9DXpfNqYPS"
      }
    },
    {
      "cell_type": "code",
      "source": [
        "(training_images, training_labels), (test_images, test_labels) = fmnist.load_data()"
      ],
      "metadata": {
        "id": "xOk8FhEJU3ti"
      },
      "execution_count": 18,
      "outputs": []
    },
    {
      "cell_type": "markdown",
      "source": [
        "# 4. Analyse the Data"
      ],
      "metadata": {
        "id": "YUtuirlxqf-v"
      }
    },
    {
      "cell_type": "code",
      "source": [
        "plt.xlabel(training_labels[123])\n",
        "plt.imshow(training_images[123])"
      ],
      "metadata": {
        "id": "yQEjIISdVbD1"
      },
      "execution_count": null,
      "outputs": []
    },
    {
      "cell_type": "code",
      "source": [
        "my_images = [\"T-shirt/top\", \"Trousers\", \"Pullover\", \"Dress\", \"Coat\", \"Sandal\", \"Shirt\", \"Sneaker\", \"Bag\", \"Ankle boot\"]"
      ],
      "metadata": {
        "id": "oLCwUbQQWNhK"
      },
      "execution_count": 13,
      "outputs": []
    },
    {
      "cell_type": "code",
      "source": [
        "len(training_images)"
      ],
      "metadata": {
        "id": "EtZ80-ZuXJ4_"
      },
      "execution_count": null,
      "outputs": []
    },
    {
      "cell_type": "code",
      "source": [
        "len(training_labels)"
      ],
      "metadata": {
        "id": "t11F25p2XTjn"
      },
      "execution_count": null,
      "outputs": []
    },
    {
      "cell_type": "code",
      "source": [
        "len(test_images)"
      ],
      "metadata": {
        "id": "608DnPmNXevy"
      },
      "execution_count": null,
      "outputs": []
    },
    {
      "cell_type": "code",
      "source": [
        "len(test_labels)"
      ],
      "metadata": {
        "id": "tUvP5_DFXlGH"
      },
      "execution_count": null,
      "outputs": []
    },
    {
      "cell_type": "code",
      "source": [
        "my_random_item = np.random.randint(100)\n",
        "my_random_item"
      ],
      "metadata": {
        "id": "A4qAnOxlYAaN"
      },
      "execution_count": null,
      "outputs": []
    },
    {
      "cell_type": "code",
      "source": [
        "my_random_item = np.random.randint(100)\n",
        "plt.xlabel(my_images[test_labels[my_random_item]])\n",
        "plt.imshow(test_images[my_random_item])\n",
        "print(my_random_item)"
      ],
      "metadata": {
        "colab": {
          "base_uri": "https://localhost:8080/",
          "height": 296
        },
        "id": "vFV73eRKYNPU",
        "outputId": "bac91be0-553b-4f59-8378-80c95a46c1fe"
      },
      "execution_count": 42,
      "outputs": [
        {
          "output_type": "stream",
          "name": "stdout",
          "text": [
            "71\n"
          ]
        },
        {
          "output_type": "display_data",
          "data": {
            "text/plain": [
              "<Figure size 432x288 with 1 Axes>"
            ],
            "image/png": "[encoded data removed]"
          },
          "metadata": {
            "needs_background": "light"
          }
        }
      ]
    },
    {
      "cell_type": "code",
      "source": [
        "test_images[my_random_item]"
      ],
      "metadata": {
        "colab": {
          "base_uri": "https://localhost:8080/"
        },
        "id": "DG9aOaktZysM",
        "outputId": "3fe0ac5b-1220-4a42-a4c7-bdbcdeef7180"
      },
      "execution_count": 43,
      "outputs": [
        {
          "output_type": "execute_result",
          "data": {
            "text/plain": [
              "array([[  0,   0,   0,   0,   0,   0,   0,  26,  64, 134,  75,   1,   0,\n",
              "          0,   0,   0,  13,  76, 140,  97,  36,   0,   0,   0,   0,   0,\n",
              "          0,   0],\n",
              "       [  0,   0,   0,   0,   2,  67, 114, 133,  99, 132, 235, 218, 184,\n",
              "        178, 168, 175, 196, 215, 120,  79, 129, 119,  75,  10,   0,   1,\n",
              "          0,   0],\n",
              "       [  0,   1,   0,   0,  96, 105,  75,  71,  73,  52,  98, 175, 225,\n",
              "        255, 250, 234, 171,  99,  55,  73,  70,  74,  95, 111,   4,   0,\n",
              "          2,   0],\n",
              "       [  0,   2,   0,  40,  68,  51,  62,  71,  82,  67,  43,  49,  82,\n",
              "        120, 148, 114,  58,  55,  71,  79,  78,  60,  49,  63,  52,   0,\n",
              "          0,   0],\n",
              "       [  0,   0,   3,  75,  52,  58,  62,  66,  76,  62,  74,  55,  21,\n",
              "          8,  19,  35,  55,  67,  70,  65,  70,  63,  63,  49,  73,  18,\n",
              "          0,   0],\n",
              "       [  0,   0,  45,  63,  51,  47,  55,  59,  62,  73,  60,  76,  74,\n",
              "         80,  90,  72,  76,  82,  75, 102,  49,  55,  56,  48,  60,  55,\n",
              "          0,   0],\n",
              "       [  0,  21,  62,  45,  62,  50,  42, 112, 109, 119, 144, 167,  89,\n",
              "        106, 152,  96,  91, 132,  82, 119,  37,  49,  42,  59,  51,  60,\n",
              "         36,   0],\n",
              "       [  0,  33,  66,  51,  62,  40,  45,  62,  62,  79,  65,  72,  60,\n",
              "         65,  65,  66,  66,  71,  64,  53,  50,  51,  36,  56,  55,  58,\n",
              "         42,   0],\n",
              "       [  0,   0,  21,  67,  58,  41,  28,  29,  47,  57,  58,  58,  63,\n",
              "         63,  63,  65,  64,  60,  65,  60,  43,  31,  39,  55,  68,  40,\n",
              "          0,   0],\n",
              "       [  0,   0,   0,   6,  68,  78,  96,  35,  40,  56,  51,  52,  52,\n",
              "         52,  52,  55,  53,  52,  49,  45,  31,  87,  82,  75,  17,   0,\n",
              "          0,   0],\n",
              "       [  0,   0,   1,   0,   0,   0,  56,  50,  35,  45,  47,  47,  48,\n",
              "         47,  48,  50,  49,  47,  43,  41,  37,  70,   0,   0,   0,   0,\n",
              "          0,   0],\n",
              "       [  0,   0,   0,   1,   0,   0,  10,  45,  36,  48,  47,  47,  48,\n",
              "         48,  48,  49,  49,  48,  48,  40,  44,  21,   0,   2,   1,   1,\n",
              "          0,   0],\n",
              "       [  0,   0,   0,   0,   0,   0,   2,  53,  35,  49,  44,  47,  41,\n",
              "         45,  44,  44,  48,  44,  47,  39,  51,  19,   0,   0,   0,   0,\n",
              "          0,   0],\n",
              "       [  0,   0,   0,   0,   0,   0,   0,  43,  41,  43,  42,  47,  45,\n",
              "         47,  45,  47,  48,  43,  44,  41,  48,   9,   0,   1,   0,   0,\n",
              "          0,   0],\n",
              "       [  0,   0,   0,   0,   0,   0,   0,  43,  45,  40,  42,  47,  47,\n",
              "         45,  47,  48,  47,  43,  41,  41,  47,   3,   0,   1,   0,   0,\n",
              "          0,   0],\n",
              "       [  0,   0,   0,   0,   1,   0,   0,  41,  42,  40,  44,  45,  42,\n",
              "         42,  48,  50,  45,  44,  40,  39,  47,   1,   0,   1,   0,   0,\n",
              "          0,   0],\n",
              "       [  0,   0,   0,   0,   0,   0,   0,  49,  41,  36,  45,  48,  45,\n",
              "         43,  47,  49,  44,  47,  43,  36,  51,   3,   0,   1,   0,   0,\n",
              "          0,   0],\n",
              "       [  0,   0,   0,   0,   0,   0,   0,  48,  39,  39,  47,  47,  45,\n",
              "         43,  47,  49,  44,  44,  37,  34,  53,   9,   0,   1,   0,   0,\n",
              "          0,   0],\n",
              "       [  0,   0,   0,   0,   1,   0,   2,  44,  33,  41,  47,  44,  44,\n",
              "         43,  47,  49,  44,  44,  42,  35,  47,  14,   0,   1,   0,   0,\n",
              "          0,   0],\n",
              "       [  0,   0,   0,   0,   1,   0,  12,  47,  32,  44,  48,  42,  44,\n",
              "         43,  47,  49,  44,  45,  50,  33,  41,  20,   0,   1,   0,   0,\n",
              "          0,   0],\n",
              "       [  0,   0,   0,   0,   1,   0,  31,  43,  32,  43,  44,  42,  44,\n",
              "         44,  48,  50,  44,  44,  43,  33,  41,  39,   0,   0,   0,   0,\n",
              "          1,   0],\n",
              "       [  0,   0,   0,   0,   0,   0,  48,  37,  36,  42,  41,  43,  43,\n",
              "         43,  45,  48,  42,  42,  44,  35,  32,  52,   6,   0,   1,   0,\n",
              "          0,   0],\n",
              "       [  0,   0,   0,   1,   0,   8,  49,  33,  40,  43,  43,  43,  42,\n",
              "         43,  47,  48,  44,  42,  45,  43,  31,  48,  22,   0,   1,   0,\n",
              "          0,   0],\n",
              "       [  0,   0,   0,   0,   0,  28,  42,  32,  40,  44,  43,  42,  42,\n",
              "         40,  43,  45,  41,  40,  42,  45,  36,  37,  40,   0,   0,   0,\n",
              "          0,   0],\n",
              "       [  0,   0,   1,   0,   0,  51,  33,  35,  40,  44,  43,  43,  41,\n",
              "         43,  50,  51,  47,  45,  43,  36,  35,  34,  48,   4,   0,   1,\n",
              "          0,   0],\n",
              "       [  0,   0,   1,   0,   6,  45,  31,  34,  40,  40,  42,  44,  36,\n",
              "         45,  49,  47,  44,  42,  42,  42,  36,  32,  48,  19,   0,   1,\n",
              "          0,   0],\n",
              "       [  0,   0,   2,   0,  26,  51,  35,  35,  37,  40,  42,  44,  39,\n",
              "         45,  47,  47,  44,  41,  41,  41,  35,  31,  48,  37,   0,   1,\n",
              "          0,   0],\n",
              "       [  0,   0,   3,   0,  27,  42,  32,  34,  40,  43,  45,  48,  44,\n",
              "         48,  47,  47,  44,  41,  41,  41,  37,  35,  36,  36,   0,   0,\n",
              "          0,   0]], dtype=uint8)"
            ]
          },
          "metadata": {},
          "execution_count": 43
        }
      ]
    },
    {
      "cell_type": "code",
      "source": [
        ""
      ],
      "metadata": {
        "id": "gEru_GwybRP8"
      },
      "execution_count": null,
      "outputs": []
    },
    {
      "cell_type": "markdown",
      "source": [
        "# 5. Model Creation"
      ],
      "metadata": {
        "id": "oQaGyhRgcFoJ"
      }
    },
    {
      "cell_type": "code",
      "source": [
        "my_model = keras.models.Sequential([keras.layers.Flatten(),\n",
        "                                    keras.layers.Dense(512, activation = 'relu'),\n",
        "                                    keras.layers.Dense(10, activation=\"softmax\")\n",
        "    \n",
        "])"
      ],
      "metadata": {
        "id": "8u1iQkbTcK2V"
      },
      "execution_count": 46,
      "outputs": []
    },
    {
      "cell_type": "markdown",
      "source": [
        "# 6. Compile the Model"
      ],
      "metadata": {
        "id": "Ge7mD8vAgOps"
      }
    },
    {
      "cell_type": "code",
      "source": [
        "my_model.compile(optimizer=\"adam\",\n",
        "                 loss=\"sparse_categorical_crossentropy\",\n",
        "                 metrics=[\"accuracy\"])"
      ],
      "metadata": {
        "id": "i8-56X5IgRx1"
      },
      "execution_count": 96,
      "outputs": []
    },
    {
      "cell_type": "markdown",
      "source": [
        "# 7. Train / Fit the Model\n",
        "fit means train (in Machine Learning)\n"
      ],
      "metadata": {
        "id": "H-wrXyl3huCW"
      }
    },
    {
      "cell_type": "code",
      "source": [
        "my_model.fit(training_images, training_labels, epochs=10)"
      ],
      "metadata": {
        "id": "NO1CsEgdh2zF"
      },
      "execution_count": null,
      "outputs": []
    },
    {
      "cell_type": "markdown",
      "source": [
        "# 8. Evaluate the Model"
      ],
      "metadata": {
        "id": "Wl_63uK5jXFI"
      }
    },
    {
      "cell_type": "code",
      "source": [
        "my_model.evaluate(test_images, test_labels)"
      ],
      "metadata": {
        "colab": {
          "base_uri": "https://localhost:8080/"
        },
        "id": "pWJHZGh0jaJf",
        "outputId": "7587b907-66d0-4323-a3f3-8802f662ac65"
      },
      "execution_count": 50,
      "outputs": [
        {
          "output_type": "stream",
          "name": "stdout",
          "text": [
            "313/313 [==============================] - 1s 3ms/step - loss: 0.5642 - accuracy: 0.8145\n"
          ]
        },
        {
          "output_type": "execute_result",
          "data": {
            "text/plain": [
              "[0.5641899108886719, 0.8144999742507935]"
            ]
          },
          "metadata": {},
          "execution_count": 50
        }
      ]
    },
    {
      "cell_type": "markdown",
      "source": [
        "# 9. Predict"
      ],
      "metadata": {
        "id": "Nc5x3hSFkuz_"
      }
    },
    {
      "cell_type": "code",
      "source": [
        "# hey, my_model, please predict those 10,000 images  in the test_images array\n",
        "# then store the probability distribuition of each item in the my_classification variable)\n",
        "my_classification = my_model.predict(test_images) "
      ],
      "metadata": {
        "id": "d6O4AnpGjWhY"
      },
      "execution_count": 87,
      "outputs": []
    },
    {
      "cell_type": "code",
      "source": [
        "type(my_classification)"
      ],
      "metadata": {
        "colab": {
          "base_uri": "https://localhost:8080/"
        },
        "id": "tQBqB4C8xYnP",
        "outputId": "a3e0410d-dff5-4893-88be-3e36a65ed38e"
      },
      "execution_count": 97,
      "outputs": [
        {
          "output_type": "execute_result",
          "data": {
            "text/plain": [
              "numpy.ndarray"
            ]
          },
          "metadata": {},
          "execution_count": 97
        }
      ]
    },
    {
      "cell_type": "code",
      "source": [
        "len(my_classification)"
      ],
      "metadata": {
        "colab": {
          "base_uri": "https://localhost:8080/"
        },
        "id": "50tro3JhromC",
        "outputId": "0b3d4122-cee3-496e-e34e-22cdc7f95270"
      },
      "execution_count": 89,
      "outputs": [
        {
          "output_type": "execute_result",
          "data": {
            "text/plain": [
              "10000"
            ]
          },
          "metadata": {},
          "execution_count": 89
        }
      ]
    },
    {
      "cell_type": "code",
      "source": [
        "# item zero (the first one)\n",
        "# a probability distribuition fro each of the 10 unique items\n",
        "# it goes from 0 to 1\n",
        "# using scientific notation\n",
        "my_classification[0]"
      ],
      "metadata": {
        "colab": {
          "base_uri": "https://localhost:8080/"
        },
        "id": "a3lqAX6Wrs6l",
        "outputId": "a081411b-cee9-44e8-8afb-5c029d7ed4db"
      },
      "execution_count": 90,
      "outputs": [
        {
          "output_type": "execute_result",
          "data": {
            "text/plain": [
              "array([2.7250579e-34, 7.9222737e-26, 0.0000000e+00, 2.7379603e-32,\n",
              "       0.0000000e+00, 4.4724483e-02, 0.0000000e+00, 5.1635122e-01,\n",
              "       3.8007142e-18, 4.3892425e-01], dtype=float32)"
            ]
          },
          "metadata": {},
          "execution_count": 90
        }
      ]
    },
    {
      "cell_type": "code",
      "source": [
        "print(np.argmax(my_classification[0]))"
      ],
      "metadata": {
        "colab": {
          "base_uri": "https://localhost:8080/"
        },
        "id": "RxgaQSP6txsL",
        "outputId": "68bd763b-81ce-4174-d330-6082ed2d41be"
      },
      "execution_count": 98,
      "outputs": [
        {
          "output_type": "stream",
          "name": "stdout",
          "text": [
            "7\n"
          ]
        }
      ]
    },
    {
      "cell_type": "code",
      "source": [
        "\n",
        "plt.xlabel(my_images[test_labels[0]])\n",
        "plt.imshow(test_images[0])\n",
        "print(my_random_item)"
      ],
      "metadata": {
        "colab": {
          "base_uri": "https://localhost:8080/",
          "height": 296
        },
        "id": "VCLHZvxWubo6",
        "outputId": "3600e21f-67fb-43b1-dd00-b3f69cc717ad"
      },
      "execution_count": 95,
      "outputs": [
        {
          "output_type": "stream",
          "name": "stdout",
          "text": [
            "71\n"
          ]
        },
        {
          "output_type": "display_data",
          "data": {
            "text/plain": [
              "<Figure size 432x288 with 1 Axes>"
            ],
            "image/png": "[encoded data removed]"
          },
          "metadata": {
            "needs_background": "light"
          }
        }
      ]
    },
    {
      "cell_type": "code",
      "source": [
        "len(test_images)"
      ],
      "metadata": {
        "colab": {
          "base_uri": "https://localhost:8080/"
        },
        "id": "tfg24Er_lVTv",
        "outputId": "264e7109-52f3-4422-cf77-a6eb6169c190"
      },
      "execution_count": 54,
      "outputs": [
        {
          "output_type": "execute_result",
          "data": {
            "text/plain": [
              "10000"
            ]
          },
          "metadata": {},
          "execution_count": 54
        }
      ]
    },
    {
      "cell_type": "code",
      "source": [
        "print((\"\\n \\nClassification :  \", my_classification[0], \"\\n \\n \", test_labels[0]))"
      ],
      "metadata": {
        "colab": {
          "base_uri": "https://localhost:8080/"
        },
        "id": "sDn6Enozlh9g",
        "outputId": "faead0d2-e456-49cd-8684-df62d28d1335"
      },
      "execution_count": 56,
      "outputs": [
        {
          "output_type": "stream",
          "name": "stdout",
          "text": [
            "('\\n \\nClassification :  ', array([2.7250579e-34, 7.9222737e-26, 0.0000000e+00, 2.7379603e-32,\n",
            "       0.0000000e+00, 4.4724483e-02, 0.0000000e+00, 5.1635122e-01,\n",
            "       3.8007142e-18, 4.3892425e-01], dtype=float32), '\\n \\n ', 9)\n"
          ]
        }
      ]
    },
    {
      "cell_type": "code",
      "source": [
        "len(test_labels)"
      ],
      "metadata": {
        "colab": {
          "base_uri": "https://localhost:8080/"
        },
        "id": "Mu4YMX26ml0E",
        "outputId": "9db29e36-c61f-4fa7-e3da-e6e62fb5a507"
      },
      "execution_count": 57,
      "outputs": [
        {
          "output_type": "execute_result",
          "data": {
            "text/plain": [
              "10000"
            ]
          },
          "metadata": {},
          "execution_count": 57
        }
      ]
    },
    {
      "cell_type": "code",
      "source": [
        "type(test_labels)"
      ],
      "metadata": {
        "colab": {
          "base_uri": "https://localhost:8080/"
        },
        "id": "QF5Et4bwmyna",
        "outputId": "5c333a29-5e9d-447d-d0e5-321d3e758f55"
      },
      "execution_count": 58,
      "outputs": [
        {
          "output_type": "execute_result",
          "data": {
            "text/plain": [
              "numpy.ndarray"
            ]
          },
          "metadata": {},
          "execution_count": 58
        }
      ]
    },
    {
      "cell_type": "code",
      "source": [
        "#distinct / unique item\n",
        "my_unique_items = set(test_labels)"
      ],
      "metadata": {
        "id": "LKeLmV-0muHS"
      },
      "execution_count": 59,
      "outputs": []
    },
    {
      "cell_type": "code",
      "source": [
        "my_unique_items"
      ],
      "metadata": {
        "colab": {
          "base_uri": "https://localhost:8080/"
        },
        "id": "-_RYBzqzm_0B",
        "outputId": "dff12313-c60c-498e-850c-ca6a485e3876"
      },
      "execution_count": 60,
      "outputs": [
        {
          "output_type": "execute_result",
          "data": {
            "text/plain": [
              "{0, 1, 2, 3, 4, 5, 6, 7, 8, 9}"
            ]
          },
          "metadata": {},
          "execution_count": 60
        }
      ]
    },
    {
      "cell_type": "markdown",
      "source": [
        "Python Objects\n",
        "\n",
        "String \n",
        "\n",
        "Numbers\n",
        "\n",
        "lists \n",
        "\n",
        "Dictionary\n",
        "\n",
        "Sets"
      ],
      "metadata": {
        "id": "2f7uVDtrnE6j"
      }
    },
    {
      "cell_type": "code",
      "source": [
        "mystring = \"I love Python\""
      ],
      "metadata": {
        "id": "Lh1ESG3cnOpM"
      },
      "execution_count": 63,
      "outputs": []
    },
    {
      "cell_type": "code",
      "source": [
        "type(mystring)"
      ],
      "metadata": {
        "colab": {
          "base_uri": "https://localhost:8080/"
        },
        "id": "XV963ODrnYc3",
        "outputId": "1953beb5-b0be-40ae-e0f4-6bd59e5d16b9"
      },
      "execution_count": 64,
      "outputs": [
        {
          "output_type": "execute_result",
          "data": {
            "text/plain": [
              "str"
            ]
          },
          "metadata": {},
          "execution_count": 64
        }
      ]
    },
    {
      "cell_type": "code",
      "source": [
        "my_float_number = 5."
      ],
      "metadata": {
        "id": "fBpLOySsneVi"
      },
      "execution_count": 67,
      "outputs": []
    },
    {
      "cell_type": "code",
      "source": [
        "type(my_float_number)"
      ],
      "metadata": {
        "colab": {
          "base_uri": "https://localhost:8080/"
        },
        "id": "RXJs3b2Wnklg",
        "outputId": "6d42de06-2873-4b75-83f3-ef3ff22456d0"
      },
      "execution_count": 68,
      "outputs": [
        {
          "output_type": "execute_result",
          "data": {
            "text/plain": [
              "float"
            ]
          },
          "metadata": {},
          "execution_count": 68
        }
      ]
    },
    {
      "cell_type": "code",
      "source": [
        "my_integer_number = 5"
      ],
      "metadata": {
        "id": "LSsts_y2ntyh"
      },
      "execution_count": 69,
      "outputs": []
    },
    {
      "cell_type": "code",
      "source": [
        "type(my_integer_number)"
      ],
      "metadata": {
        "colab": {
          "base_uri": "https://localhost:8080/"
        },
        "id": "Zckb23k9nxdB",
        "outputId": "92fca800-94de-4724-8e5c-42cdfcd8f8af"
      },
      "execution_count": 70,
      "outputs": [
        {
          "output_type": "execute_result",
          "data": {
            "text/plain": [
              "int"
            ]
          },
          "metadata": {},
          "execution_count": 70
        }
      ]
    },
    {
      "cell_type": "code",
      "source": [
        "my_list = [\"House\", \"House\", \"Build\"]"
      ],
      "metadata": {
        "id": "LCFp31cKn1wN"
      },
      "execution_count": 71,
      "outputs": []
    },
    {
      "cell_type": "code",
      "source": [
        "type(my_list)"
      ],
      "metadata": {
        "colab": {
          "base_uri": "https://localhost:8080/"
        },
        "id": "31UdiVQ-n9ZB",
        "outputId": "ea2f587b-0b9d-496a-d969-67b607f5eb10"
      },
      "execution_count": 72,
      "outputs": [
        {
          "output_type": "execute_result",
          "data": {
            "text/plain": [
              "list"
            ]
          },
          "metadata": {},
          "execution_count": 72
        }
      ]
    },
    {
      "cell_type": "code",
      "source": [
        "my_list"
      ],
      "metadata": {
        "colab": {
          "base_uri": "https://localhost:8080/"
        },
        "id": "c1l9_Zh3oBUy",
        "outputId": "451a179d-ab46-4039-d9f2-a735a8abd6d7"
      },
      "execution_count": 73,
      "outputs": [
        {
          "output_type": "execute_result",
          "data": {
            "text/plain": [
              "['House', 'House', 'Build']"
            ]
          },
          "metadata": {},
          "execution_count": 73
        }
      ]
    },
    {
      "cell_type": "code",
      "source": [
        "my_dictionary = { \"1\" : \"House\",\"1\" : \"House\" }"
      ],
      "metadata": {
        "id": "TMa7prKloEvc"
      },
      "execution_count": 80,
      "outputs": []
    },
    {
      "cell_type": "code",
      "source": [
        "type(my_dictionary)"
      ],
      "metadata": {
        "colab": {
          "base_uri": "https://localhost:8080/"
        },
        "id": "Of5r66sboO23",
        "outputId": "56827782-8ca3-44e0-f32f-47645c4bfca1"
      },
      "execution_count": 77,
      "outputs": [
        {
          "output_type": "execute_result",
          "data": {
            "text/plain": [
              "dict"
            ]
          },
          "metadata": {},
          "execution_count": 77
        }
      ]
    },
    {
      "cell_type": "code",
      "source": [
        "my_dictionary"
      ],
      "metadata": {
        "colab": {
          "base_uri": "https://localhost:8080/"
        },
        "id": "Muw7AIVUoVCD",
        "outputId": "579f2a14-a2a3-453e-a1bf-648087319d1d"
      },
      "execution_count": 79,
      "outputs": [
        {
          "output_type": "execute_result",
          "data": {
            "text/plain": [
              "{'1': 'House'}"
            ]
          },
          "metadata": {},
          "execution_count": 79
        }
      ]
    },
    {
      "cell_type": "code",
      "source": [
        "my_tuple = (\"House\", \"House\")"
      ],
      "metadata": {
        "id": "yh5mu3-rocfU"
      },
      "execution_count": 81,
      "outputs": []
    },
    {
      "cell_type": "code",
      "source": [
        "type(my_tuple)"
      ],
      "metadata": {
        "colab": {
          "base_uri": "https://localhost:8080/"
        },
        "id": "yEglZe7kojLM",
        "outputId": "2d12c0cc-da54-4709-9593-e43526ec118a"
      },
      "execution_count": 82,
      "outputs": [
        {
          "output_type": "execute_result",
          "data": {
            "text/plain": [
              "tuple"
            ]
          },
          "metadata": {},
          "execution_count": 82
        }
      ]
    },
    {
      "cell_type": "code",
      "source": [
        " my_set = set(\"House, House\")"
      ],
      "metadata": {
        "id": "FoTVCe26otpH"
      },
      "execution_count": 84,
      "outputs": []
    },
    {
      "cell_type": "code",
      "source": [
        "my_set"
      ],
      "metadata": {
        "colab": {
          "base_uri": "https://localhost:8080/"
        },
        "id": "6AXjezt9o40b",
        "outputId": "ac1cf826-ed25-48d0-cd78-7e468f3d0fe6"
      },
      "execution_count": 85,
      "outputs": [
        {
          "output_type": "execute_result",
          "data": {
            "text/plain": [
              "{' ', ',', 'H', 'e', 'o', 's', 'u'}"
            ]
          },
          "metadata": {},
          "execution_count": 85
        }
      ]
    },
    {
      "cell_type": "code",
      "source": [
        "type(my_set)"
      ],
      "metadata": {
        "colab": {
          "base_uri": "https://localhost:8080/"
        },
        "id": "LCxmyVowo8Tn",
        "outputId": "93478316-f2e9-4faa-d4b4-52c5b63a1539"
      },
      "execution_count": 86,
      "outputs": [
        {
          "output_type": "execute_result",
          "data": {
            "text/plain": [
              "set"
            ]
          },
          "metadata": {},
          "execution_count": 86
        }
      ]
    }
  ]
}